{
 "cells": [
  {
   "cell_type": "code",
   "execution_count": 1,
   "id": "90566bd0",
   "metadata": {
    "execution": {
     "iopub.execute_input": "2021-07-22T11:09:16.379780Z",
     "iopub.status.busy": "2021-07-22T11:09:16.379115Z",
     "iopub.status.idle": "2021-07-22T11:09:19.065554Z",
     "shell.execute_reply": "2021-07-22T11:09:19.064848Z",
     "shell.execute_reply.started": "2021-07-11T06:30:21.601002Z"
    },
    "papermill": {
     "duration": 2.73677,
     "end_time": "2021-07-22T11:09:19.065724",
     "exception": false,
     "start_time": "2021-07-22T11:09:16.328954",
     "status": "completed"
    },
    "tags": []
   },
   "outputs": [
    {
     "data": {
      "text/html": [
       "<div>\n",
       "<style scoped>\n",
       "    .dataframe tbody tr th:only-of-type {\n",
       "        vertical-align: middle;\n",
       "    }\n",
       "\n",
       "    .dataframe tbody tr th {\n",
       "        vertical-align: top;\n",
       "    }\n",
       "\n",
       "    .dataframe thead th {\n",
       "        text-align: right;\n",
       "    }\n",
       "</style>\n",
       "<table border=\"1\" class=\"dataframe\">\n",
       "  <thead>\n",
       "    <tr style=\"text-align: right;\">\n",
       "      <th></th>\n",
       "      <th>distance</th>\n",
       "      <th>cab_type</th>\n",
       "      <th>time_stamp</th>\n",
       "      <th>destination</th>\n",
       "      <th>source</th>\n",
       "      <th>price</th>\n",
       "      <th>surge_multiplier</th>\n",
       "      <th>id</th>\n",
       "      <th>product_id</th>\n",
       "      <th>name</th>\n",
       "    </tr>\n",
       "  </thead>\n",
       "  <tbody>\n",
       "    <tr>\n",
       "      <th>0</th>\n",
       "      <td>0.44</td>\n",
       "      <td>Lyft</td>\n",
       "      <td>1.544950e+12</td>\n",
       "      <td>North Station</td>\n",
       "      <td>Haymarket Square</td>\n",
       "      <td>5.0</td>\n",
       "      <td>1.0</td>\n",
       "      <td>424553bb-7174-41ea-aeb4-fe06d4f4b9d7</td>\n",
       "      <td>lyft_line</td>\n",
       "      <td>Shared</td>\n",
       "    </tr>\n",
       "    <tr>\n",
       "      <th>1</th>\n",
       "      <td>0.44</td>\n",
       "      <td>Lyft</td>\n",
       "      <td>1.543280e+12</td>\n",
       "      <td>North Station</td>\n",
       "      <td>Haymarket Square</td>\n",
       "      <td>11.0</td>\n",
       "      <td>1.0</td>\n",
       "      <td>4bd23055-6827-41c6-b23b-3c491f24e74d</td>\n",
       "      <td>lyft_premier</td>\n",
       "      <td>Lux</td>\n",
       "    </tr>\n",
       "    <tr>\n",
       "      <th>2</th>\n",
       "      <td>0.44</td>\n",
       "      <td>Lyft</td>\n",
       "      <td>1.543370e+12</td>\n",
       "      <td>North Station</td>\n",
       "      <td>Haymarket Square</td>\n",
       "      <td>7.0</td>\n",
       "      <td>1.0</td>\n",
       "      <td>981a3613-77af-4620-a42a-0c0866077d1e</td>\n",
       "      <td>lyft</td>\n",
       "      <td>Lyft</td>\n",
       "    </tr>\n",
       "    <tr>\n",
       "      <th>3</th>\n",
       "      <td>0.44</td>\n",
       "      <td>Lyft</td>\n",
       "      <td>1.543550e+12</td>\n",
       "      <td>North Station</td>\n",
       "      <td>Haymarket Square</td>\n",
       "      <td>26.0</td>\n",
       "      <td>1.0</td>\n",
       "      <td>c2d88af2-d278-4bfd-a8d0-29ca77cc5512</td>\n",
       "      <td>lyft_luxsuv</td>\n",
       "      <td>Lux Black XL</td>\n",
       "    </tr>\n",
       "    <tr>\n",
       "      <th>4</th>\n",
       "      <td>0.44</td>\n",
       "      <td>Lyft</td>\n",
       "      <td>1.543460e+12</td>\n",
       "      <td>North Station</td>\n",
       "      <td>Haymarket Square</td>\n",
       "      <td>9.0</td>\n",
       "      <td>1.0</td>\n",
       "      <td>e0126e1f-8ca9-4f2e-82b3-50505a09db9a</td>\n",
       "      <td>lyft_plus</td>\n",
       "      <td>Lyft XL</td>\n",
       "    </tr>\n",
       "    <tr>\n",
       "      <th>...</th>\n",
       "      <td>...</td>\n",
       "      <td>...</td>\n",
       "      <td>...</td>\n",
       "      <td>...</td>\n",
       "      <td>...</td>\n",
       "      <td>...</td>\n",
       "      <td>...</td>\n",
       "      <td>...</td>\n",
       "      <td>...</td>\n",
       "      <td>...</td>\n",
       "    </tr>\n",
       "    <tr>\n",
       "      <th>693066</th>\n",
       "      <td>1.00</td>\n",
       "      <td>Uber</td>\n",
       "      <td>1.543710e+12</td>\n",
       "      <td>North End</td>\n",
       "      <td>West End</td>\n",
       "      <td>13.0</td>\n",
       "      <td>1.0</td>\n",
       "      <td>616d3611-1820-450a-9845-a9ff304a4842</td>\n",
       "      <td>6f72dfc5-27f1-42e8-84db-ccc7a75f6969</td>\n",
       "      <td>UberXL</td>\n",
       "    </tr>\n",
       "    <tr>\n",
       "      <th>693067</th>\n",
       "      <td>1.00</td>\n",
       "      <td>Uber</td>\n",
       "      <td>1.543710e+12</td>\n",
       "      <td>North End</td>\n",
       "      <td>West End</td>\n",
       "      <td>9.5</td>\n",
       "      <td>1.0</td>\n",
       "      <td>633a3fc3-1f86-4b9e-9d48-2b7132112341</td>\n",
       "      <td>55c66225-fbe7-4fd5-9072-eab1ece5e23e</td>\n",
       "      <td>UberX</td>\n",
       "    </tr>\n",
       "    <tr>\n",
       "      <th>693068</th>\n",
       "      <td>1.00</td>\n",
       "      <td>Uber</td>\n",
       "      <td>1.543710e+12</td>\n",
       "      <td>North End</td>\n",
       "      <td>West End</td>\n",
       "      <td>NaN</td>\n",
       "      <td>1.0</td>\n",
       "      <td>64d451d0-639f-47a4-9b7c-6fd92fbd264f</td>\n",
       "      <td>8cf7e821-f0d3-49c6-8eba-e679c0ebcf6a</td>\n",
       "      <td>Taxi</td>\n",
       "    </tr>\n",
       "    <tr>\n",
       "      <th>693069</th>\n",
       "      <td>1.00</td>\n",
       "      <td>Uber</td>\n",
       "      <td>1.543710e+12</td>\n",
       "      <td>North End</td>\n",
       "      <td>West End</td>\n",
       "      <td>27.0</td>\n",
       "      <td>1.0</td>\n",
       "      <td>727e5f07-a96b-4ad1-a2c7-9abc3ad55b4e</td>\n",
       "      <td>6d318bcc-22a3-4af6-bddd-b409bfce1546</td>\n",
       "      <td>Black SUV</td>\n",
       "    </tr>\n",
       "    <tr>\n",
       "      <th>693070</th>\n",
       "      <td>1.00</td>\n",
       "      <td>Uber</td>\n",
       "      <td>1.543710e+12</td>\n",
       "      <td>North End</td>\n",
       "      <td>West End</td>\n",
       "      <td>10.0</td>\n",
       "      <td>1.0</td>\n",
       "      <td>e7fdc087-fe86-40a5-a3c3-3b2a8badcbda</td>\n",
       "      <td>997acbb5-e102-41e1-b155-9df7de0a73f2</td>\n",
       "      <td>UberPool</td>\n",
       "    </tr>\n",
       "  </tbody>\n",
       "</table>\n",
       "<p>693071 rows × 10 columns</p>\n",
       "</div>"
      ],
      "text/plain": [
       "        distance cab_type    time_stamp    destination            source  \\\n",
       "0           0.44     Lyft  1.544950e+12  North Station  Haymarket Square   \n",
       "1           0.44     Lyft  1.543280e+12  North Station  Haymarket Square   \n",
       "2           0.44     Lyft  1.543370e+12  North Station  Haymarket Square   \n",
       "3           0.44     Lyft  1.543550e+12  North Station  Haymarket Square   \n",
       "4           0.44     Lyft  1.543460e+12  North Station  Haymarket Square   \n",
       "...          ...      ...           ...            ...               ...   \n",
       "693066      1.00     Uber  1.543710e+12      North End          West End   \n",
       "693067      1.00     Uber  1.543710e+12      North End          West End   \n",
       "693068      1.00     Uber  1.543710e+12      North End          West End   \n",
       "693069      1.00     Uber  1.543710e+12      North End          West End   \n",
       "693070      1.00     Uber  1.543710e+12      North End          West End   \n",
       "\n",
       "        price  surge_multiplier                                    id  \\\n",
       "0         5.0               1.0  424553bb-7174-41ea-aeb4-fe06d4f4b9d7   \n",
       "1        11.0               1.0  4bd23055-6827-41c6-b23b-3c491f24e74d   \n",
       "2         7.0               1.0  981a3613-77af-4620-a42a-0c0866077d1e   \n",
       "3        26.0               1.0  c2d88af2-d278-4bfd-a8d0-29ca77cc5512   \n",
       "4         9.0               1.0  e0126e1f-8ca9-4f2e-82b3-50505a09db9a   \n",
       "...       ...               ...                                   ...   \n",
       "693066   13.0               1.0  616d3611-1820-450a-9845-a9ff304a4842   \n",
       "693067    9.5               1.0  633a3fc3-1f86-4b9e-9d48-2b7132112341   \n",
       "693068    NaN               1.0  64d451d0-639f-47a4-9b7c-6fd92fbd264f   \n",
       "693069   27.0               1.0  727e5f07-a96b-4ad1-a2c7-9abc3ad55b4e   \n",
       "693070   10.0               1.0  e7fdc087-fe86-40a5-a3c3-3b2a8badcbda   \n",
       "\n",
       "                                  product_id          name  \n",
       "0                                  lyft_line        Shared  \n",
       "1                               lyft_premier           Lux  \n",
       "2                                       lyft          Lyft  \n",
       "3                                lyft_luxsuv  Lux Black XL  \n",
       "4                                  lyft_plus       Lyft XL  \n",
       "...                                      ...           ...  \n",
       "693066  6f72dfc5-27f1-42e8-84db-ccc7a75f6969        UberXL  \n",
       "693067  55c66225-fbe7-4fd5-9072-eab1ece5e23e         UberX  \n",
       "693068  8cf7e821-f0d3-49c6-8eba-e679c0ebcf6a          Taxi  \n",
       "693069  6d318bcc-22a3-4af6-bddd-b409bfce1546     Black SUV  \n",
       "693070  997acbb5-e102-41e1-b155-9df7de0a73f2      UberPool  \n",
       "\n",
       "[693071 rows x 10 columns]"
      ]
     },
     "execution_count": 1,
     "metadata": {},
     "output_type": "execute_result"
    }
   ],
   "source": [
    "import pandas as pd\n",
    "import numpy as np\n",
    "cab_data=pd.read_csv('../input/uber-cab-fare-price-analysis/cab_rides.csv')\n",
    "cab_data"
   ]
  },
  {
   "cell_type": "code",
   "execution_count": 2,
   "id": "aa7248f5",
   "metadata": {
    "execution": {
     "iopub.execute_input": "2021-07-22T11:09:19.152044Z",
     "iopub.status.busy": "2021-07-22T11:09:19.151176Z",
     "iopub.status.idle": "2021-07-22T11:09:19.192894Z",
     "shell.execute_reply": "2021-07-22T11:09:19.193390Z",
     "shell.execute_reply.started": "2021-07-11T06:30:23.383221Z"
    },
    "papermill": {
     "duration": 0.087544,
     "end_time": "2021-07-22T11:09:19.193572",
     "exception": false,
     "start_time": "2021-07-22T11:09:19.106028",
     "status": "completed"
    },
    "tags": []
   },
   "outputs": [
    {
     "data": {
      "text/html": [
       "<div>\n",
       "<style scoped>\n",
       "    .dataframe tbody tr th:only-of-type {\n",
       "        vertical-align: middle;\n",
       "    }\n",
       "\n",
       "    .dataframe tbody tr th {\n",
       "        vertical-align: top;\n",
       "    }\n",
       "\n",
       "    .dataframe thead th {\n",
       "        text-align: right;\n",
       "    }\n",
       "</style>\n",
       "<table border=\"1\" class=\"dataframe\">\n",
       "  <thead>\n",
       "    <tr style=\"text-align: right;\">\n",
       "      <th></th>\n",
       "      <th>temp</th>\n",
       "      <th>location</th>\n",
       "      <th>clouds</th>\n",
       "      <th>pressure</th>\n",
       "      <th>rain</th>\n",
       "      <th>time_stamp</th>\n",
       "      <th>humidity</th>\n",
       "      <th>wind</th>\n",
       "    </tr>\n",
       "  </thead>\n",
       "  <tbody>\n",
       "    <tr>\n",
       "      <th>0</th>\n",
       "      <td>42.42</td>\n",
       "      <td>Back Bay</td>\n",
       "      <td>1.00</td>\n",
       "      <td>1012.14</td>\n",
       "      <td>0.1228</td>\n",
       "      <td>1545003901</td>\n",
       "      <td>0.77</td>\n",
       "      <td>11.25</td>\n",
       "    </tr>\n",
       "    <tr>\n",
       "      <th>1</th>\n",
       "      <td>42.43</td>\n",
       "      <td>Beacon Hill</td>\n",
       "      <td>1.00</td>\n",
       "      <td>1012.15</td>\n",
       "      <td>0.1846</td>\n",
       "      <td>1545003901</td>\n",
       "      <td>0.76</td>\n",
       "      <td>11.32</td>\n",
       "    </tr>\n",
       "    <tr>\n",
       "      <th>2</th>\n",
       "      <td>42.50</td>\n",
       "      <td>Boston University</td>\n",
       "      <td>1.00</td>\n",
       "      <td>1012.15</td>\n",
       "      <td>0.1089</td>\n",
       "      <td>1545003901</td>\n",
       "      <td>0.76</td>\n",
       "      <td>11.07</td>\n",
       "    </tr>\n",
       "    <tr>\n",
       "      <th>3</th>\n",
       "      <td>42.11</td>\n",
       "      <td>Fenway</td>\n",
       "      <td>1.00</td>\n",
       "      <td>1012.13</td>\n",
       "      <td>0.0969</td>\n",
       "      <td>1545003901</td>\n",
       "      <td>0.77</td>\n",
       "      <td>11.09</td>\n",
       "    </tr>\n",
       "    <tr>\n",
       "      <th>4</th>\n",
       "      <td>43.13</td>\n",
       "      <td>Financial District</td>\n",
       "      <td>1.00</td>\n",
       "      <td>1012.14</td>\n",
       "      <td>0.1786</td>\n",
       "      <td>1545003901</td>\n",
       "      <td>0.75</td>\n",
       "      <td>11.49</td>\n",
       "    </tr>\n",
       "    <tr>\n",
       "      <th>...</th>\n",
       "      <td>...</td>\n",
       "      <td>...</td>\n",
       "      <td>...</td>\n",
       "      <td>...</td>\n",
       "      <td>...</td>\n",
       "      <td>...</td>\n",
       "      <td>...</td>\n",
       "      <td>...</td>\n",
       "    </tr>\n",
       "    <tr>\n",
       "      <th>6271</th>\n",
       "      <td>44.72</td>\n",
       "      <td>North Station</td>\n",
       "      <td>0.89</td>\n",
       "      <td>1000.69</td>\n",
       "      <td>NaN</td>\n",
       "      <td>1543819974</td>\n",
       "      <td>0.96</td>\n",
       "      <td>1.52</td>\n",
       "    </tr>\n",
       "    <tr>\n",
       "      <th>6272</th>\n",
       "      <td>44.85</td>\n",
       "      <td>Northeastern University</td>\n",
       "      <td>0.88</td>\n",
       "      <td>1000.71</td>\n",
       "      <td>NaN</td>\n",
       "      <td>1543819974</td>\n",
       "      <td>0.96</td>\n",
       "      <td>1.54</td>\n",
       "    </tr>\n",
       "    <tr>\n",
       "      <th>6273</th>\n",
       "      <td>44.82</td>\n",
       "      <td>South Station</td>\n",
       "      <td>0.89</td>\n",
       "      <td>1000.70</td>\n",
       "      <td>NaN</td>\n",
       "      <td>1543819974</td>\n",
       "      <td>0.96</td>\n",
       "      <td>1.54</td>\n",
       "    </tr>\n",
       "    <tr>\n",
       "      <th>6274</th>\n",
       "      <td>44.78</td>\n",
       "      <td>Theatre District</td>\n",
       "      <td>0.89</td>\n",
       "      <td>1000.70</td>\n",
       "      <td>NaN</td>\n",
       "      <td>1543819974</td>\n",
       "      <td>0.96</td>\n",
       "      <td>1.54</td>\n",
       "    </tr>\n",
       "    <tr>\n",
       "      <th>6275</th>\n",
       "      <td>44.69</td>\n",
       "      <td>West End</td>\n",
       "      <td>0.89</td>\n",
       "      <td>1000.70</td>\n",
       "      <td>NaN</td>\n",
       "      <td>1543819974</td>\n",
       "      <td>0.96</td>\n",
       "      <td>1.52</td>\n",
       "    </tr>\n",
       "  </tbody>\n",
       "</table>\n",
       "<p>6276 rows × 8 columns</p>\n",
       "</div>"
      ],
      "text/plain": [
       "       temp                 location  clouds  pressure    rain  time_stamp  \\\n",
       "0     42.42                 Back Bay    1.00   1012.14  0.1228  1545003901   \n",
       "1     42.43              Beacon Hill    1.00   1012.15  0.1846  1545003901   \n",
       "2     42.50        Boston University    1.00   1012.15  0.1089  1545003901   \n",
       "3     42.11                   Fenway    1.00   1012.13  0.0969  1545003901   \n",
       "4     43.13       Financial District    1.00   1012.14  0.1786  1545003901   \n",
       "...     ...                      ...     ...       ...     ...         ...   \n",
       "6271  44.72            North Station    0.89   1000.69     NaN  1543819974   \n",
       "6272  44.85  Northeastern University    0.88   1000.71     NaN  1543819974   \n",
       "6273  44.82            South Station    0.89   1000.70     NaN  1543819974   \n",
       "6274  44.78         Theatre District    0.89   1000.70     NaN  1543819974   \n",
       "6275  44.69                 West End    0.89   1000.70     NaN  1543819974   \n",
       "\n",
       "      humidity   wind  \n",
       "0         0.77  11.25  \n",
       "1         0.76  11.32  \n",
       "2         0.76  11.07  \n",
       "3         0.77  11.09  \n",
       "4         0.75  11.49  \n",
       "...        ...    ...  \n",
       "6271      0.96   1.52  \n",
       "6272      0.96   1.54  \n",
       "6273      0.96   1.54  \n",
       "6274      0.96   1.54  \n",
       "6275      0.96   1.52  \n",
       "\n",
       "[6276 rows x 8 columns]"
      ]
     },
     "execution_count": 2,
     "metadata": {},
     "output_type": "execute_result"
    }
   ],
   "source": [
    "weather_data=pd.read_csv('../input/uber-cab-fare-price-analysis/weather.csv')\n",
    "weather_data"
   ]
  },
  {
   "cell_type": "markdown",
   "id": "4428a298",
   "metadata": {
    "papermill": {
     "duration": 0.040038,
     "end_time": "2021-07-22T11:09:19.272795",
     "exception": false,
     "start_time": "2021-07-22T11:09:19.232757",
     "status": "completed"
    },
    "tags": []
   },
   "source": [
    "Reducing the memory of the datasets"
   ]
  },
  {
   "cell_type": "code",
   "execution_count": 3,
   "id": "68c10023",
   "metadata": {
    "execution": {
     "iopub.execute_input": "2021-07-22T11:09:19.363554Z",
     "iopub.status.busy": "2021-07-22T11:09:19.362807Z",
     "iopub.status.idle": "2021-07-22T11:09:19.365823Z",
     "shell.execute_reply": "2021-07-22T11:09:19.366417Z",
     "shell.execute_reply.started": "2021-07-11T06:30:23.424414Z"
    },
    "papermill": {
     "duration": 0.055709,
     "end_time": "2021-07-22T11:09:19.366598",
     "exception": false,
     "start_time": "2021-07-22T11:09:19.310889",
     "status": "completed"
    },
    "tags": []
   },
   "outputs": [],
   "source": [
    "def reduce_memory_usage(df):\n",
    "    \n",
    "    start_memory = df.memory_usage().sum() / 1024**2\n",
    "    print(f\"Memory usage of dataframe is {start_memory} MB\")\n",
    "    \n",
    "    for col in df.columns:\n",
    "        col_type = df[col].dtype\n",
    "        \n",
    "        if col_type != 'object':\n",
    "            c_min = df[col].min()\n",
    "            c_max = df[col].max()\n",
    "            \n",
    "            if str(col_type)[:3] == 'int':\n",
    "                if c_min > np.iinfo(np.int8).min and c_max < np.iinfo(np.int8).max:\n",
    "                    df[col] = df[col].astype(np.int8)\n",
    "                elif c_min > np.iinfo(np.int16).min and c_max < np.iinfo(np.int16).max:\n",
    "                    df[col] = df[col].astype(np.int16)\n",
    "                elif c_min > np.iinfo(np.int32).min and c_max < np.iinfo(np.int32).max:\n",
    "                    df[col] = df[col].astype(np.int32)\n",
    "                elif c_min > np.iinfo(np.int64).min and c_max < np.iinfo(np.int64).max:\n",
    "                    df[col] = df[col].astype(np.int64)\n",
    "            \n",
    "            else:\n",
    "                if c_min > np.finfo(np.float16).min and c_max < np.finfo(np.float16).max:\n",
    "                    df[col] = df[col].astype(np.float16)\n",
    "                elif c_min > np.finfo(np.float32).min and c_max < np.finfo(np.float32).max:\n",
    "                    df[col] = df[col].astype(np.float32)\n",
    "                else:\n",
    "                    pass\n",
    "        else:\n",
    "            df[col] = df[col].astype('category')\n",
    "    \n",
    "    end_memory = df.memory_usage().sum() / 1024**2\n",
    "    print(f\"Memory usage of dataframe after reduction {end_memory} MB\")\n",
    "    print(f\"Reduced by {100 * (start_memory - end_memory) / start_memory} % \")\n",
    "    return df"
   ]
  },
  {
   "cell_type": "code",
   "execution_count": 4,
   "id": "af41ca80",
   "metadata": {
    "execution": {
     "iopub.execute_input": "2021-07-22T11:09:19.451519Z",
     "iopub.status.busy": "2021-07-22T11:09:19.450830Z",
     "iopub.status.idle": "2021-07-22T11:09:22.426288Z",
     "shell.execute_reply": "2021-07-22T11:09:22.425221Z",
     "shell.execute_reply.started": "2021-07-11T06:30:23.440347Z"
    },
    "papermill": {
     "duration": 3.022014,
     "end_time": "2021-07-22T11:09:22.426543",
     "exception": false,
     "start_time": "2021-07-22T11:09:19.404529",
     "status": "completed"
    },
    "tags": []
   },
   "outputs": [
    {
     "name": "stdout",
     "output_type": "stream",
     "text": [
      "Memory usage of dataframe is 52.87724304199219 MB\n",
      "Memory usage of dataframe after reduction 33.973320960998535 MB\n",
      "Reduced by 35.75058190152085 % \n",
      "Memory usage of dataframe is 0.3831787109375 MB\n",
      "Memory usage of dataframe after reduction 0.1022491455078125 MB\n",
      "Reduced by 73.31554635234151 % \n"
     ]
    }
   ],
   "source": [
    "cab_data = reduce_memory_usage(cab_data)\n",
    "weather_data = reduce_memory_usage(weather_data)"
   ]
  },
  {
   "cell_type": "markdown",
   "id": "bc5f826f",
   "metadata": {
    "papermill": {
     "duration": 0.039044,
     "end_time": "2021-07-22T11:09:22.505454",
     "exception": false,
     "start_time": "2021-07-22T11:09:22.466410",
     "status": "completed"
    },
    "tags": []
   },
   "source": [
    "analysis of the data sets"
   ]
  },
  {
   "cell_type": "code",
   "execution_count": 5,
   "id": "ac8dc395",
   "metadata": {
    "execution": {
     "iopub.execute_input": "2021-07-22T11:09:22.592016Z",
     "iopub.status.busy": "2021-07-22T11:09:22.591141Z",
     "iopub.status.idle": "2021-07-22T11:09:22.595403Z",
     "shell.execute_reply": "2021-07-22T11:09:22.594762Z",
     "shell.execute_reply.started": "2021-07-11T06:30:26.389779Z"
    },
    "papermill": {
     "duration": 0.05009,
     "end_time": "2021-07-22T11:09:22.595554",
     "exception": false,
     "start_time": "2021-07-22T11:09:22.545464",
     "status": "completed"
    },
    "tags": []
   },
   "outputs": [
    {
     "data": {
      "text/plain": [
       "Index(['distance', 'cab_type', 'time_stamp', 'destination', 'source', 'price',\n",
       "       'surge_multiplier', 'id', 'product_id', 'name'],\n",
       "      dtype='object')"
      ]
     },
     "execution_count": 5,
     "metadata": {},
     "output_type": "execute_result"
    }
   ],
   "source": [
    "cab_data.columns"
   ]
  },
  {
   "cell_type": "code",
   "execution_count": 6,
   "id": "8b08cc63",
   "metadata": {
    "execution": {
     "iopub.execute_input": "2021-07-22T11:09:22.680686Z",
     "iopub.status.busy": "2021-07-22T11:09:22.679900Z",
     "iopub.status.idle": "2021-07-22T11:09:22.684208Z",
     "shell.execute_reply": "2021-07-22T11:09:22.683519Z",
     "shell.execute_reply.started": "2021-07-11T06:30:26.398055Z"
    },
    "papermill": {
     "duration": 0.048979,
     "end_time": "2021-07-22T11:09:22.684364",
     "exception": false,
     "start_time": "2021-07-22T11:09:22.635385",
     "status": "completed"
    },
    "tags": []
   },
   "outputs": [
    {
     "data": {
      "text/plain": [
       "Index(['temp', 'location', 'clouds', 'pressure', 'rain', 'time_stamp',\n",
       "       'humidity', 'wind'],\n",
       "      dtype='object')"
      ]
     },
     "execution_count": 6,
     "metadata": {},
     "output_type": "execute_result"
    }
   ],
   "source": [
    "weather_data.columns"
   ]
  },
  {
   "cell_type": "code",
   "execution_count": 7,
   "id": "58708f9d",
   "metadata": {
    "execution": {
     "iopub.execute_input": "2021-07-22T11:09:22.771070Z",
     "iopub.status.busy": "2021-07-22T11:09:22.770347Z",
     "iopub.status.idle": "2021-07-22T11:09:28.144364Z",
     "shell.execute_reply": "2021-07-22T11:09:28.143650Z",
     "shell.execute_reply.started": "2021-07-11T06:30:26.4124Z"
    },
    "papermill": {
     "duration": 5.419382,
     "end_time": "2021-07-22T11:09:28.144512",
     "exception": false,
     "start_time": "2021-07-22T11:09:22.725130",
     "status": "completed"
    },
    "tags": []
   },
   "outputs": [
    {
     "name": "stdout",
     "output_type": "stream",
     "text": [
      "<class 'pandas.core.frame.DataFrame'>\n",
      "RangeIndex: 693071 entries, 0 to 693070\n",
      "Data columns (total 10 columns):\n",
      " #   Column            Non-Null Count   Dtype   \n",
      "---  ------            --------------   -----   \n",
      " 0   distance          693071 non-null  float16 \n",
      " 1   cab_type          693071 non-null  category\n",
      " 2   time_stamp        693071 non-null  float32 \n",
      " 3   destination       693071 non-null  category\n",
      " 4   source            693071 non-null  category\n",
      " 5   price             637976 non-null  float16 \n",
      " 6   surge_multiplier  693071 non-null  float16 \n",
      " 7   id                693071 non-null  category\n",
      " 8   product_id        693071 non-null  category\n",
      " 9   name              693071 non-null  category\n",
      "dtypes: category(6), float16(3), float32(1)\n",
      "memory usage: 34.0 MB\n"
     ]
    }
   ],
   "source": [
    "cab_data.info()"
   ]
  },
  {
   "cell_type": "code",
   "execution_count": 8,
   "id": "d2fdfa1a",
   "metadata": {
    "execution": {
     "iopub.execute_input": "2021-07-22T11:09:28.231232Z",
     "iopub.status.busy": "2021-07-22T11:09:28.229887Z",
     "iopub.status.idle": "2021-07-22T11:09:28.252267Z",
     "shell.execute_reply": "2021-07-22T11:09:28.253062Z",
     "shell.execute_reply.started": "2021-07-11T06:30:31.699336Z"
    },
    "papermill": {
     "duration": 0.067873,
     "end_time": "2021-07-22T11:09:28.253309",
     "exception": false,
     "start_time": "2021-07-22T11:09:28.185436",
     "status": "completed"
    },
    "tags": []
   },
   "outputs": [
    {
     "name": "stdout",
     "output_type": "stream",
     "text": [
      "<class 'pandas.core.frame.DataFrame'>\n",
      "RangeIndex: 6276 entries, 0 to 6275\n",
      "Data columns (total 8 columns):\n",
      " #   Column      Non-Null Count  Dtype   \n",
      "---  ------      --------------  -----   \n",
      " 0   temp        6276 non-null   float16 \n",
      " 1   location    6276 non-null   category\n",
      " 2   clouds      6276 non-null   float16 \n",
      " 3   pressure    6276 non-null   float16 \n",
      " 4   rain        894 non-null    float16 \n",
      " 5   time_stamp  6276 non-null   int32   \n",
      " 6   humidity    6276 non-null   float16 \n",
      " 7   wind        6276 non-null   float16 \n",
      "dtypes: category(1), float16(6), int32(1)\n",
      "memory usage: 104.7 KB\n"
     ]
    }
   ],
   "source": [
    "weather_data.info()"
   ]
  },
  {
   "cell_type": "code",
   "execution_count": 9,
   "id": "72fdd0b1",
   "metadata": {
    "execution": {
     "iopub.execute_input": "2021-07-22T11:09:28.365768Z",
     "iopub.status.busy": "2021-07-22T11:09:28.365119Z",
     "iopub.status.idle": "2021-07-22T11:09:28.369546Z",
     "shell.execute_reply": "2021-07-22T11:09:28.368953Z",
     "shell.execute_reply.started": "2021-07-11T06:30:31.722804Z"
    },
    "papermill": {
     "duration": 0.060793,
     "end_time": "2021-07-22T11:09:28.369685",
     "exception": false,
     "start_time": "2021-07-22T11:09:28.308892",
     "status": "completed"
    },
    "tags": []
   },
   "outputs": [
    {
     "data": {
      "text/plain": [
       "distance             float16\n",
       "cab_type            category\n",
       "time_stamp           float32\n",
       "destination         category\n",
       "source              category\n",
       "price                float16\n",
       "surge_multiplier     float16\n",
       "id                  category\n",
       "product_id          category\n",
       "name                category\n",
       "dtype: object"
      ]
     },
     "execution_count": 9,
     "metadata": {},
     "output_type": "execute_result"
    }
   ],
   "source": [
    "cab_data.dtypes"
   ]
  },
  {
   "cell_type": "markdown",
   "id": "061aa6dd",
   "metadata": {
    "papermill": {
     "duration": 0.042705,
     "end_time": "2021-07-22T11:09:28.453607",
     "exception": false,
     "start_time": "2021-07-22T11:09:28.410902",
     "status": "completed"
    },
    "tags": []
   },
   "source": [
    "coverting the datatype of time_stamp column to datetime "
   ]
  },
  {
   "cell_type": "code",
   "execution_count": 10,
   "id": "61c9f395",
   "metadata": {
    "execution": {
     "iopub.execute_input": "2021-07-22T11:09:28.542232Z",
     "iopub.status.busy": "2021-07-22T11:09:28.541493Z",
     "iopub.status.idle": "2021-07-22T11:09:32.771755Z",
     "shell.execute_reply": "2021-07-22T11:09:32.771205Z",
     "shell.execute_reply.started": "2021-07-11T06:30:31.738982Z"
    },
    "papermill": {
     "duration": 4.276599,
     "end_time": "2021-07-22T11:09:32.771893",
     "exception": false,
     "start_time": "2021-07-22T11:09:28.495294",
     "status": "completed"
    },
    "tags": []
   },
   "outputs": [
    {
     "data": {
      "text/html": [
       "<div>\n",
       "<style scoped>\n",
       "    .dataframe tbody tr th:only-of-type {\n",
       "        vertical-align: middle;\n",
       "    }\n",
       "\n",
       "    .dataframe tbody tr th {\n",
       "        vertical-align: top;\n",
       "    }\n",
       "\n",
       "    .dataframe thead th {\n",
       "        text-align: right;\n",
       "    }\n",
       "</style>\n",
       "<table border=\"1\" class=\"dataframe\">\n",
       "  <thead>\n",
       "    <tr style=\"text-align: right;\">\n",
       "      <th></th>\n",
       "      <th>distance</th>\n",
       "      <th>cab_type</th>\n",
       "      <th>time_stamp</th>\n",
       "      <th>destination</th>\n",
       "      <th>source</th>\n",
       "      <th>price</th>\n",
       "      <th>surge_multiplier</th>\n",
       "      <th>id</th>\n",
       "      <th>product_id</th>\n",
       "      <th>name</th>\n",
       "      <th>date_time</th>\n",
       "    </tr>\n",
       "  </thead>\n",
       "  <tbody>\n",
       "    <tr>\n",
       "      <th>0</th>\n",
       "      <td>0.439941</td>\n",
       "      <td>Lyft</td>\n",
       "      <td>1.544950e+12</td>\n",
       "      <td>North Station</td>\n",
       "      <td>Haymarket Square</td>\n",
       "      <td>5.0</td>\n",
       "      <td>1.0</td>\n",
       "      <td>424553bb-7174-41ea-aeb4-fe06d4f4b9d7</td>\n",
       "      <td>lyft_line</td>\n",
       "      <td>Shared</td>\n",
       "      <td>1970-01-01 00:25:44.949989376</td>\n",
       "    </tr>\n",
       "    <tr>\n",
       "      <th>1</th>\n",
       "      <td>0.439941</td>\n",
       "      <td>Lyft</td>\n",
       "      <td>1.543280e+12</td>\n",
       "      <td>North Station</td>\n",
       "      <td>Haymarket Square</td>\n",
       "      <td>11.0</td>\n",
       "      <td>1.0</td>\n",
       "      <td>4bd23055-6827-41c6-b23b-3c491f24e74d</td>\n",
       "      <td>lyft_premier</td>\n",
       "      <td>Lux</td>\n",
       "      <td>1970-01-01 00:25:43.280001024</td>\n",
       "    </tr>\n",
       "    <tr>\n",
       "      <th>2</th>\n",
       "      <td>0.439941</td>\n",
       "      <td>Lyft</td>\n",
       "      <td>1.543370e+12</td>\n",
       "      <td>North Station</td>\n",
       "      <td>Haymarket Square</td>\n",
       "      <td>7.0</td>\n",
       "      <td>1.0</td>\n",
       "      <td>981a3613-77af-4620-a42a-0c0866077d1e</td>\n",
       "      <td>lyft</td>\n",
       "      <td>Lyft</td>\n",
       "      <td>1970-01-01 00:25:43.370047488</td>\n",
       "    </tr>\n",
       "    <tr>\n",
       "      <th>3</th>\n",
       "      <td>0.439941</td>\n",
       "      <td>Lyft</td>\n",
       "      <td>1.543550e+12</td>\n",
       "      <td>North Station</td>\n",
       "      <td>Haymarket Square</td>\n",
       "      <td>26.0</td>\n",
       "      <td>1.0</td>\n",
       "      <td>c2d88af2-d278-4bfd-a8d0-29ca77cc5512</td>\n",
       "      <td>lyft_luxsuv</td>\n",
       "      <td>Lux Black XL</td>\n",
       "      <td>1970-01-01 00:25:43.550009344</td>\n",
       "    </tr>\n",
       "    <tr>\n",
       "      <th>4</th>\n",
       "      <td>0.439941</td>\n",
       "      <td>Lyft</td>\n",
       "      <td>1.543460e+12</td>\n",
       "      <td>North Station</td>\n",
       "      <td>Haymarket Square</td>\n",
       "      <td>9.0</td>\n",
       "      <td>1.0</td>\n",
       "      <td>e0126e1f-8ca9-4f2e-82b3-50505a09db9a</td>\n",
       "      <td>lyft_plus</td>\n",
       "      <td>Lyft XL</td>\n",
       "      <td>1970-01-01 00:25:43.459962880</td>\n",
       "    </tr>\n",
       "    <tr>\n",
       "      <th>...</th>\n",
       "      <td>...</td>\n",
       "      <td>...</td>\n",
       "      <td>...</td>\n",
       "      <td>...</td>\n",
       "      <td>...</td>\n",
       "      <td>...</td>\n",
       "      <td>...</td>\n",
       "      <td>...</td>\n",
       "      <td>...</td>\n",
       "      <td>...</td>\n",
       "      <td>...</td>\n",
       "    </tr>\n",
       "    <tr>\n",
       "      <th>693066</th>\n",
       "      <td>1.000000</td>\n",
       "      <td>Uber</td>\n",
       "      <td>1.543710e+12</td>\n",
       "      <td>North End</td>\n",
       "      <td>West End</td>\n",
       "      <td>13.0</td>\n",
       "      <td>1.0</td>\n",
       "      <td>616d3611-1820-450a-9845-a9ff304a4842</td>\n",
       "      <td>6f72dfc5-27f1-42e8-84db-ccc7a75f6969</td>\n",
       "      <td>UberXL</td>\n",
       "      <td>1970-01-01 00:25:43.710048256</td>\n",
       "    </tr>\n",
       "    <tr>\n",
       "      <th>693067</th>\n",
       "      <td>1.000000</td>\n",
       "      <td>Uber</td>\n",
       "      <td>1.543710e+12</td>\n",
       "      <td>North End</td>\n",
       "      <td>West End</td>\n",
       "      <td>9.5</td>\n",
       "      <td>1.0</td>\n",
       "      <td>633a3fc3-1f86-4b9e-9d48-2b7132112341</td>\n",
       "      <td>55c66225-fbe7-4fd5-9072-eab1ece5e23e</td>\n",
       "      <td>UberX</td>\n",
       "      <td>1970-01-01 00:25:43.710048256</td>\n",
       "    </tr>\n",
       "    <tr>\n",
       "      <th>693068</th>\n",
       "      <td>1.000000</td>\n",
       "      <td>Uber</td>\n",
       "      <td>1.543710e+12</td>\n",
       "      <td>North End</td>\n",
       "      <td>West End</td>\n",
       "      <td>NaN</td>\n",
       "      <td>1.0</td>\n",
       "      <td>64d451d0-639f-47a4-9b7c-6fd92fbd264f</td>\n",
       "      <td>8cf7e821-f0d3-49c6-8eba-e679c0ebcf6a</td>\n",
       "      <td>Taxi</td>\n",
       "      <td>1970-01-01 00:25:43.710048256</td>\n",
       "    </tr>\n",
       "    <tr>\n",
       "      <th>693069</th>\n",
       "      <td>1.000000</td>\n",
       "      <td>Uber</td>\n",
       "      <td>1.543710e+12</td>\n",
       "      <td>North End</td>\n",
       "      <td>West End</td>\n",
       "      <td>27.0</td>\n",
       "      <td>1.0</td>\n",
       "      <td>727e5f07-a96b-4ad1-a2c7-9abc3ad55b4e</td>\n",
       "      <td>6d318bcc-22a3-4af6-bddd-b409bfce1546</td>\n",
       "      <td>Black SUV</td>\n",
       "      <td>1970-01-01 00:25:43.710048256</td>\n",
       "    </tr>\n",
       "    <tr>\n",
       "      <th>693070</th>\n",
       "      <td>1.000000</td>\n",
       "      <td>Uber</td>\n",
       "      <td>1.543710e+12</td>\n",
       "      <td>North End</td>\n",
       "      <td>West End</td>\n",
       "      <td>10.0</td>\n",
       "      <td>1.0</td>\n",
       "      <td>e7fdc087-fe86-40a5-a3c3-3b2a8badcbda</td>\n",
       "      <td>997acbb5-e102-41e1-b155-9df7de0a73f2</td>\n",
       "      <td>UberPool</td>\n",
       "      <td>1970-01-01 00:25:43.710048256</td>\n",
       "    </tr>\n",
       "  </tbody>\n",
       "</table>\n",
       "<p>693071 rows × 11 columns</p>\n",
       "</div>"
      ],
      "text/plain": [
       "        distance cab_type    time_stamp    destination            source  \\\n",
       "0       0.439941     Lyft  1.544950e+12  North Station  Haymarket Square   \n",
       "1       0.439941     Lyft  1.543280e+12  North Station  Haymarket Square   \n",
       "2       0.439941     Lyft  1.543370e+12  North Station  Haymarket Square   \n",
       "3       0.439941     Lyft  1.543550e+12  North Station  Haymarket Square   \n",
       "4       0.439941     Lyft  1.543460e+12  North Station  Haymarket Square   \n",
       "...          ...      ...           ...            ...               ...   \n",
       "693066  1.000000     Uber  1.543710e+12      North End          West End   \n",
       "693067  1.000000     Uber  1.543710e+12      North End          West End   \n",
       "693068  1.000000     Uber  1.543710e+12      North End          West End   \n",
       "693069  1.000000     Uber  1.543710e+12      North End          West End   \n",
       "693070  1.000000     Uber  1.543710e+12      North End          West End   \n",
       "\n",
       "        price  surge_multiplier                                    id  \\\n",
       "0         5.0               1.0  424553bb-7174-41ea-aeb4-fe06d4f4b9d7   \n",
       "1        11.0               1.0  4bd23055-6827-41c6-b23b-3c491f24e74d   \n",
       "2         7.0               1.0  981a3613-77af-4620-a42a-0c0866077d1e   \n",
       "3        26.0               1.0  c2d88af2-d278-4bfd-a8d0-29ca77cc5512   \n",
       "4         9.0               1.0  e0126e1f-8ca9-4f2e-82b3-50505a09db9a   \n",
       "...       ...               ...                                   ...   \n",
       "693066   13.0               1.0  616d3611-1820-450a-9845-a9ff304a4842   \n",
       "693067    9.5               1.0  633a3fc3-1f86-4b9e-9d48-2b7132112341   \n",
       "693068    NaN               1.0  64d451d0-639f-47a4-9b7c-6fd92fbd264f   \n",
       "693069   27.0               1.0  727e5f07-a96b-4ad1-a2c7-9abc3ad55b4e   \n",
       "693070   10.0               1.0  e7fdc087-fe86-40a5-a3c3-3b2a8badcbda   \n",
       "\n",
       "                                  product_id          name  \\\n",
       "0                                  lyft_line        Shared   \n",
       "1                               lyft_premier           Lux   \n",
       "2                                       lyft          Lyft   \n",
       "3                                lyft_luxsuv  Lux Black XL   \n",
       "4                                  lyft_plus       Lyft XL   \n",
       "...                                      ...           ...   \n",
       "693066  6f72dfc5-27f1-42e8-84db-ccc7a75f6969        UberXL   \n",
       "693067  55c66225-fbe7-4fd5-9072-eab1ece5e23e         UberX   \n",
       "693068  8cf7e821-f0d3-49c6-8eba-e679c0ebcf6a          Taxi   \n",
       "693069  6d318bcc-22a3-4af6-bddd-b409bfce1546     Black SUV   \n",
       "693070  997acbb5-e102-41e1-b155-9df7de0a73f2      UberPool   \n",
       "\n",
       "                           date_time  \n",
       "0      1970-01-01 00:25:44.949989376  \n",
       "1      1970-01-01 00:25:43.280001024  \n",
       "2      1970-01-01 00:25:43.370047488  \n",
       "3      1970-01-01 00:25:43.550009344  \n",
       "4      1970-01-01 00:25:43.459962880  \n",
       "...                              ...  \n",
       "693066 1970-01-01 00:25:43.710048256  \n",
       "693067 1970-01-01 00:25:43.710048256  \n",
       "693068 1970-01-01 00:25:43.710048256  \n",
       "693069 1970-01-01 00:25:43.710048256  \n",
       "693070 1970-01-01 00:25:43.710048256  \n",
       "\n",
       "[693071 rows x 11 columns]"
      ]
     },
     "execution_count": 10,
     "metadata": {},
     "output_type": "execute_result"
    }
   ],
   "source": [
    "import datetime\n",
    "cab_data['date_time'] = pd.to_datetime(cab_data['time_stamp'])\n",
    "weather_data['date_time'] = pd.to_datetime(weather_data['time_stamp'])\n",
    "cab_data"
   ]
  },
  {
   "cell_type": "code",
   "execution_count": 11,
   "id": "0748f836",
   "metadata": {
    "execution": {
     "iopub.execute_input": "2021-07-22T11:09:32.860471Z",
     "iopub.status.busy": "2021-07-22T11:09:32.859489Z",
     "iopub.status.idle": "2021-07-22T11:09:32.864092Z",
     "shell.execute_reply": "2021-07-22T11:09:32.863434Z",
     "shell.execute_reply.started": "2021-07-11T06:30:35.939654Z"
    },
    "papermill": {
     "duration": 0.050983,
     "end_time": "2021-07-22T11:09:32.864246",
     "exception": false,
     "start_time": "2021-07-22T11:09:32.813263",
     "status": "completed"
    },
    "tags": []
   },
   "outputs": [
    {
     "data": {
      "text/plain": [
       "(693071, 11)"
      ]
     },
     "execution_count": 11,
     "metadata": {},
     "output_type": "execute_result"
    }
   ],
   "source": [
    "cab_data.shape"
   ]
  },
  {
   "cell_type": "code",
   "execution_count": 12,
   "id": "d7d2c917",
   "metadata": {
    "execution": {
     "iopub.execute_input": "2021-07-22T11:09:32.952460Z",
     "iopub.status.busy": "2021-07-22T11:09:32.951800Z",
     "iopub.status.idle": "2021-07-22T11:09:32.958422Z",
     "shell.execute_reply": "2021-07-22T11:09:32.959043Z",
     "shell.execute_reply.started": "2021-07-11T06:30:35.946915Z"
    },
    "papermill": {
     "duration": 0.053491,
     "end_time": "2021-07-22T11:09:32.959220",
     "exception": false,
     "start_time": "2021-07-22T11:09:32.905729",
     "status": "completed"
    },
    "tags": []
   },
   "outputs": [
    {
     "data": {
      "text/plain": [
       "(6276, 9)"
      ]
     },
     "execution_count": 12,
     "metadata": {},
     "output_type": "execute_result"
    }
   ],
   "source": [
    "weather_data.shape"
   ]
  },
  {
   "cell_type": "markdown",
   "id": "07316004",
   "metadata": {
    "papermill": {
     "duration": 0.041915,
     "end_time": "2021-07-22T11:09:33.043594",
     "exception": false,
     "start_time": "2021-07-22T11:09:33.001679",
     "status": "completed"
    },
    "tags": []
   },
   "source": [
    "coverting some columns to the desired datatype"
   ]
  },
  {
   "cell_type": "code",
   "execution_count": 13,
   "id": "3ee421e3",
   "metadata": {
    "execution": {
     "iopub.execute_input": "2021-07-22T11:09:33.134831Z",
     "iopub.status.busy": "2021-07-22T11:09:33.133777Z",
     "iopub.status.idle": "2021-07-22T11:09:33.171078Z",
     "shell.execute_reply": "2021-07-22T11:09:33.170428Z",
     "shell.execute_reply.started": "2021-07-11T06:30:35.963179Z"
    },
    "papermill": {
     "duration": 0.085788,
     "end_time": "2021-07-22T11:09:33.171239",
     "exception": false,
     "start_time": "2021-07-22T11:09:33.085451",
     "status": "completed"
    },
    "tags": []
   },
   "outputs": [
    {
     "data": {
      "text/html": [
       "<div>\n",
       "<style scoped>\n",
       "    .dataframe tbody tr th:only-of-type {\n",
       "        vertical-align: middle;\n",
       "    }\n",
       "\n",
       "    .dataframe tbody tr th {\n",
       "        vertical-align: top;\n",
       "    }\n",
       "\n",
       "    .dataframe thead th {\n",
       "        text-align: right;\n",
       "    }\n",
       "</style>\n",
       "<table border=\"1\" class=\"dataframe\">\n",
       "  <thead>\n",
       "    <tr style=\"text-align: right;\">\n",
       "      <th></th>\n",
       "      <th>distance</th>\n",
       "      <th>cab_type</th>\n",
       "      <th>time_stamp</th>\n",
       "      <th>destination</th>\n",
       "      <th>source</th>\n",
       "      <th>price</th>\n",
       "      <th>surge_multiplier</th>\n",
       "      <th>id</th>\n",
       "      <th>product_id</th>\n",
       "      <th>name</th>\n",
       "      <th>date_time</th>\n",
       "    </tr>\n",
       "  </thead>\n",
       "  <tbody>\n",
       "    <tr>\n",
       "      <th>0</th>\n",
       "      <td>0.439941</td>\n",
       "      <td>Lyft</td>\n",
       "      <td>1.544950e+12</td>\n",
       "      <td>North Station</td>\n",
       "      <td>Haymarket Square</td>\n",
       "      <td>5.0</td>\n",
       "      <td>1.0</td>\n",
       "      <td>424553bb-7174-41ea-aeb4-fe06d4f4b9d7</td>\n",
       "      <td>lyft_line</td>\n",
       "      <td>Shared</td>\n",
       "      <td>1970-01-01 00:25:44.949989376</td>\n",
       "    </tr>\n",
       "    <tr>\n",
       "      <th>1</th>\n",
       "      <td>0.439941</td>\n",
       "      <td>Lyft</td>\n",
       "      <td>1.543280e+12</td>\n",
       "      <td>North Station</td>\n",
       "      <td>Haymarket Square</td>\n",
       "      <td>11.0</td>\n",
       "      <td>1.0</td>\n",
       "      <td>4bd23055-6827-41c6-b23b-3c491f24e74d</td>\n",
       "      <td>lyft_premier</td>\n",
       "      <td>Lux</td>\n",
       "      <td>1970-01-01 00:25:43.280001024</td>\n",
       "    </tr>\n",
       "    <tr>\n",
       "      <th>2</th>\n",
       "      <td>0.439941</td>\n",
       "      <td>Lyft</td>\n",
       "      <td>1.543370e+12</td>\n",
       "      <td>North Station</td>\n",
       "      <td>Haymarket Square</td>\n",
       "      <td>7.0</td>\n",
       "      <td>1.0</td>\n",
       "      <td>981a3613-77af-4620-a42a-0c0866077d1e</td>\n",
       "      <td>lyft</td>\n",
       "      <td>Lyft</td>\n",
       "      <td>1970-01-01 00:25:43.370047488</td>\n",
       "    </tr>\n",
       "    <tr>\n",
       "      <th>3</th>\n",
       "      <td>0.439941</td>\n",
       "      <td>Lyft</td>\n",
       "      <td>1.543550e+12</td>\n",
       "      <td>North Station</td>\n",
       "      <td>Haymarket Square</td>\n",
       "      <td>26.0</td>\n",
       "      <td>1.0</td>\n",
       "      <td>c2d88af2-d278-4bfd-a8d0-29ca77cc5512</td>\n",
       "      <td>lyft_luxsuv</td>\n",
       "      <td>Lux Black XL</td>\n",
       "      <td>1970-01-01 00:25:43.550009344</td>\n",
       "    </tr>\n",
       "    <tr>\n",
       "      <th>4</th>\n",
       "      <td>0.439941</td>\n",
       "      <td>Lyft</td>\n",
       "      <td>1.543460e+12</td>\n",
       "      <td>North Station</td>\n",
       "      <td>Haymarket Square</td>\n",
       "      <td>9.0</td>\n",
       "      <td>1.0</td>\n",
       "      <td>e0126e1f-8ca9-4f2e-82b3-50505a09db9a</td>\n",
       "      <td>lyft_plus</td>\n",
       "      <td>Lyft XL</td>\n",
       "      <td>1970-01-01 00:25:43.459962880</td>\n",
       "    </tr>\n",
       "  </tbody>\n",
       "</table>\n",
       "</div>"
      ],
      "text/plain": [
       "   distance cab_type    time_stamp    destination            source  price  \\\n",
       "0  0.439941     Lyft  1.544950e+12  North Station  Haymarket Square    5.0   \n",
       "1  0.439941     Lyft  1.543280e+12  North Station  Haymarket Square   11.0   \n",
       "2  0.439941     Lyft  1.543370e+12  North Station  Haymarket Square    7.0   \n",
       "3  0.439941     Lyft  1.543550e+12  North Station  Haymarket Square   26.0   \n",
       "4  0.439941     Lyft  1.543460e+12  North Station  Haymarket Square    9.0   \n",
       "\n",
       "   surge_multiplier                                    id    product_id  \\\n",
       "0               1.0  424553bb-7174-41ea-aeb4-fe06d4f4b9d7     lyft_line   \n",
       "1               1.0  4bd23055-6827-41c6-b23b-3c491f24e74d  lyft_premier   \n",
       "2               1.0  981a3613-77af-4620-a42a-0c0866077d1e          lyft   \n",
       "3               1.0  c2d88af2-d278-4bfd-a8d0-29ca77cc5512   lyft_luxsuv   \n",
       "4               1.0  e0126e1f-8ca9-4f2e-82b3-50505a09db9a     lyft_plus   \n",
       "\n",
       "           name                     date_time  \n",
       "0        Shared 1970-01-01 00:25:44.949989376  \n",
       "1           Lux 1970-01-01 00:25:43.280001024  \n",
       "2          Lyft 1970-01-01 00:25:43.370047488  \n",
       "3  Lux Black XL 1970-01-01 00:25:43.550009344  \n",
       "4       Lyft XL 1970-01-01 00:25:43.459962880  "
      ]
     },
     "execution_count": 13,
     "metadata": {},
     "output_type": "execute_result"
    }
   ],
   "source": [
    "cab_data['distance']=cab_data['distance'].astype('float')\n",
    "cab_data['price']=cab_data['price'].astype('float')\n",
    "cab_data['surge_multiplier']=cab_data['surge_multiplier'].astype('float')\n",
    "cab_data.head()"
   ]
  },
  {
   "cell_type": "code",
   "execution_count": 14,
   "id": "6906b07c",
   "metadata": {
    "execution": {
     "iopub.execute_input": "2021-07-22T11:09:33.285403Z",
     "iopub.status.busy": "2021-07-22T11:09:33.284437Z",
     "iopub.status.idle": "2021-07-22T11:09:33.288799Z",
     "shell.execute_reply": "2021-07-22T11:09:33.288277Z",
     "shell.execute_reply.started": "2021-07-11T06:30:36.010548Z"
    },
    "papermill": {
     "duration": 0.06567,
     "end_time": "2021-07-22T11:09:33.288935",
     "exception": false,
     "start_time": "2021-07-22T11:09:33.223265",
     "status": "completed"
    },
    "tags": []
   },
   "outputs": [
    {
     "data": {
      "text/html": [
       "<div>\n",
       "<style scoped>\n",
       "    .dataframe tbody tr th:only-of-type {\n",
       "        vertical-align: middle;\n",
       "    }\n",
       "\n",
       "    .dataframe tbody tr th {\n",
       "        vertical-align: top;\n",
       "    }\n",
       "\n",
       "    .dataframe thead th {\n",
       "        text-align: right;\n",
       "    }\n",
       "</style>\n",
       "<table border=\"1\" class=\"dataframe\">\n",
       "  <thead>\n",
       "    <tr style=\"text-align: right;\">\n",
       "      <th></th>\n",
       "      <th>temp</th>\n",
       "      <th>location</th>\n",
       "      <th>clouds</th>\n",
       "      <th>pressure</th>\n",
       "      <th>rain</th>\n",
       "      <th>time_stamp</th>\n",
       "      <th>humidity</th>\n",
       "      <th>wind</th>\n",
       "      <th>date_time</th>\n",
       "    </tr>\n",
       "  </thead>\n",
       "  <tbody>\n",
       "    <tr>\n",
       "      <th>0</th>\n",
       "      <td>42.40625</td>\n",
       "      <td>Back Bay</td>\n",
       "      <td>1.0</td>\n",
       "      <td>1012.0</td>\n",
       "      <td>0.122803</td>\n",
       "      <td>1545003901</td>\n",
       "      <td>0.770020</td>\n",
       "      <td>11.250000</td>\n",
       "      <td>1970-01-01 00:00:01.545003901</td>\n",
       "    </tr>\n",
       "    <tr>\n",
       "      <th>1</th>\n",
       "      <td>42.43750</td>\n",
       "      <td>Beacon Hill</td>\n",
       "      <td>1.0</td>\n",
       "      <td>1012.0</td>\n",
       "      <td>0.184570</td>\n",
       "      <td>1545003901</td>\n",
       "      <td>0.759766</td>\n",
       "      <td>11.320312</td>\n",
       "      <td>1970-01-01 00:00:01.545003901</td>\n",
       "    </tr>\n",
       "    <tr>\n",
       "      <th>2</th>\n",
       "      <td>42.50000</td>\n",
       "      <td>Boston University</td>\n",
       "      <td>1.0</td>\n",
       "      <td>1012.0</td>\n",
       "      <td>0.108887</td>\n",
       "      <td>1545003901</td>\n",
       "      <td>0.759766</td>\n",
       "      <td>11.070312</td>\n",
       "      <td>1970-01-01 00:00:01.545003901</td>\n",
       "    </tr>\n",
       "    <tr>\n",
       "      <th>3</th>\n",
       "      <td>42.12500</td>\n",
       "      <td>Fenway</td>\n",
       "      <td>1.0</td>\n",
       "      <td>1012.0</td>\n",
       "      <td>0.096924</td>\n",
       "      <td>1545003901</td>\n",
       "      <td>0.770020</td>\n",
       "      <td>11.093750</td>\n",
       "      <td>1970-01-01 00:00:01.545003901</td>\n",
       "    </tr>\n",
       "    <tr>\n",
       "      <th>4</th>\n",
       "      <td>43.12500</td>\n",
       "      <td>Financial District</td>\n",
       "      <td>1.0</td>\n",
       "      <td>1012.0</td>\n",
       "      <td>0.178589</td>\n",
       "      <td>1545003901</td>\n",
       "      <td>0.750000</td>\n",
       "      <td>11.492188</td>\n",
       "      <td>1970-01-01 00:00:01.545003901</td>\n",
       "    </tr>\n",
       "  </tbody>\n",
       "</table>\n",
       "</div>"
      ],
      "text/plain": [
       "       temp            location  clouds  pressure      rain  time_stamp  \\\n",
       "0  42.40625            Back Bay     1.0    1012.0  0.122803  1545003901   \n",
       "1  42.43750         Beacon Hill     1.0    1012.0  0.184570  1545003901   \n",
       "2  42.50000   Boston University     1.0    1012.0  0.108887  1545003901   \n",
       "3  42.12500              Fenway     1.0    1012.0  0.096924  1545003901   \n",
       "4  43.12500  Financial District     1.0    1012.0  0.178589  1545003901   \n",
       "\n",
       "   humidity       wind                     date_time  \n",
       "0  0.770020  11.250000 1970-01-01 00:00:01.545003901  \n",
       "1  0.759766  11.320312 1970-01-01 00:00:01.545003901  \n",
       "2  0.759766  11.070312 1970-01-01 00:00:01.545003901  \n",
       "3  0.770020  11.093750 1970-01-01 00:00:01.545003901  \n",
       "4  0.750000  11.492188 1970-01-01 00:00:01.545003901  "
      ]
     },
     "execution_count": 14,
     "metadata": {},
     "output_type": "execute_result"
    }
   ],
   "source": [
    "weather_data['temp']=weather_data['temp'].astype('float')\n",
    "weather_data['pressure']=weather_data['pressure'].astype('float')\n",
    "weather_data.head()"
   ]
  },
  {
   "cell_type": "code",
   "execution_count": 15,
   "id": "3c3328f7",
   "metadata": {
    "execution": {
     "iopub.execute_input": "2021-07-22T11:09:33.391662Z",
     "iopub.status.busy": "2021-07-22T11:09:33.386475Z",
     "iopub.status.idle": "2021-07-22T11:09:35.587354Z",
     "shell.execute_reply": "2021-07-22T11:09:35.586797Z",
     "shell.execute_reply.started": "2021-07-11T06:30:36.03321Z"
    },
    "papermill": {
     "duration": 2.255408,
     "end_time": "2021-07-22T11:09:35.587494",
     "exception": false,
     "start_time": "2021-07-22T11:09:33.332086",
     "status": "completed"
    },
    "tags": []
   },
   "outputs": [
    {
     "data": {
      "text/html": [
       "<div>\n",
       "<style scoped>\n",
       "    .dataframe tbody tr th:only-of-type {\n",
       "        vertical-align: middle;\n",
       "    }\n",
       "\n",
       "    .dataframe tbody tr th {\n",
       "        vertical-align: top;\n",
       "    }\n",
       "\n",
       "    .dataframe thead th {\n",
       "        text-align: right;\n",
       "    }\n",
       "</style>\n",
       "<table border=\"1\" class=\"dataframe\">\n",
       "  <thead>\n",
       "    <tr style=\"text-align: right;\">\n",
       "      <th></th>\n",
       "      <th>distance</th>\n",
       "      <th>time_stamp</th>\n",
       "      <th>price</th>\n",
       "      <th>surge_multiplier</th>\n",
       "    </tr>\n",
       "  </thead>\n",
       "  <tbody>\n",
       "    <tr>\n",
       "      <th>count</th>\n",
       "      <td>693071.000000</td>\n",
       "      <td>6.930710e+05</td>\n",
       "      <td>637976.000000</td>\n",
       "      <td>693071.000000</td>\n",
       "    </tr>\n",
       "    <tr>\n",
       "      <th>mean</th>\n",
       "      <td>2.189448</td>\n",
       "      <td>1.530152e+12</td>\n",
       "      <td>16.545125</td>\n",
       "      <td>1.013870</td>\n",
       "    </tr>\n",
       "    <tr>\n",
       "      <th>std</th>\n",
       "      <td>1.138948</td>\n",
       "      <td>1.390676e+10</td>\n",
       "      <td>9.324359</td>\n",
       "      <td>0.091641</td>\n",
       "    </tr>\n",
       "    <tr>\n",
       "      <th>min</th>\n",
       "      <td>0.020004</td>\n",
       "      <td>1.543200e+12</td>\n",
       "      <td>2.500000</td>\n",
       "      <td>1.000000</td>\n",
       "    </tr>\n",
       "    <tr>\n",
       "      <th>25%</th>\n",
       "      <td>1.280273</td>\n",
       "      <td>1.543440e+12</td>\n",
       "      <td>9.000000</td>\n",
       "      <td>1.000000</td>\n",
       "    </tr>\n",
       "    <tr>\n",
       "      <th>50%</th>\n",
       "      <td>2.160156</td>\n",
       "      <td>1.543740e+12</td>\n",
       "      <td>13.500000</td>\n",
       "      <td>1.000000</td>\n",
       "    </tr>\n",
       "    <tr>\n",
       "      <th>75%</th>\n",
       "      <td>2.919922</td>\n",
       "      <td>1.544830e+12</td>\n",
       "      <td>22.500000</td>\n",
       "      <td>1.000000</td>\n",
       "    </tr>\n",
       "    <tr>\n",
       "      <th>max</th>\n",
       "      <td>7.859375</td>\n",
       "      <td>1.545160e+12</td>\n",
       "      <td>97.500000</td>\n",
       "      <td>3.000000</td>\n",
       "    </tr>\n",
       "  </tbody>\n",
       "</table>\n",
       "</div>"
      ],
      "text/plain": [
       "            distance    time_stamp          price  surge_multiplier\n",
       "count  693071.000000  6.930710e+05  637976.000000     693071.000000\n",
       "mean        2.189448  1.530152e+12      16.545125          1.013870\n",
       "std         1.138948  1.390676e+10       9.324359          0.091641\n",
       "min         0.020004  1.543200e+12       2.500000          1.000000\n",
       "25%         1.280273  1.543440e+12       9.000000          1.000000\n",
       "50%         2.160156  1.543740e+12      13.500000          1.000000\n",
       "75%         2.919922  1.544830e+12      22.500000          1.000000\n",
       "max         7.859375  1.545160e+12      97.500000          3.000000"
      ]
     },
     "execution_count": 15,
     "metadata": {},
     "output_type": "execute_result"
    }
   ],
   "source": [
    "cab_data.describe()"
   ]
  },
  {
   "cell_type": "code",
   "execution_count": 16,
   "id": "f0cb3268",
   "metadata": {
    "execution": {
     "iopub.execute_input": "2021-07-22T11:09:35.683240Z",
     "iopub.status.busy": "2021-07-22T11:09:35.682547Z",
     "iopub.status.idle": "2021-07-22T11:09:35.720532Z",
     "shell.execute_reply": "2021-07-22T11:09:35.720015Z",
     "shell.execute_reply.started": "2021-07-11T06:30:38.230525Z"
    },
    "papermill": {
     "duration": 0.088646,
     "end_time": "2021-07-22T11:09:35.720700",
     "exception": false,
     "start_time": "2021-07-22T11:09:35.632054",
     "status": "completed"
    },
    "tags": []
   },
   "outputs": [
    {
     "data": {
      "text/html": [
       "<div>\n",
       "<style scoped>\n",
       "    .dataframe tbody tr th:only-of-type {\n",
       "        vertical-align: middle;\n",
       "    }\n",
       "\n",
       "    .dataframe tbody tr th {\n",
       "        vertical-align: top;\n",
       "    }\n",
       "\n",
       "    .dataframe thead th {\n",
       "        text-align: right;\n",
       "    }\n",
       "</style>\n",
       "<table border=\"1\" class=\"dataframe\">\n",
       "  <thead>\n",
       "    <tr style=\"text-align: right;\">\n",
       "      <th></th>\n",
       "      <th>temp</th>\n",
       "      <th>clouds</th>\n",
       "      <th>pressure</th>\n",
       "      <th>rain</th>\n",
       "      <th>time_stamp</th>\n",
       "      <th>humidity</th>\n",
       "      <th>wind</th>\n",
       "    </tr>\n",
       "  </thead>\n",
       "  <tbody>\n",
       "    <tr>\n",
       "      <th>count</th>\n",
       "      <td>6276.000000</td>\n",
       "      <td>6276.000000</td>\n",
       "      <td>6276.000000</td>\n",
       "      <td>894.000000</td>\n",
       "      <td>6.276000e+03</td>\n",
       "      <td>6276.000000</td>\n",
       "      <td>6276.000000</td>\n",
       "    </tr>\n",
       "    <tr>\n",
       "      <th>mean</th>\n",
       "      <td>39.090526</td>\n",
       "      <td>0.677734</td>\n",
       "      <td>1008.443754</td>\n",
       "      <td>0.057648</td>\n",
       "      <td>1.543857e+09</td>\n",
       "      <td>0.764160</td>\n",
       "      <td>6.800781</td>\n",
       "    </tr>\n",
       "    <tr>\n",
       "      <th>std</th>\n",
       "      <td>6.022029</td>\n",
       "      <td>0.314453</td>\n",
       "      <td>12.874074</td>\n",
       "      <td>0.100769</td>\n",
       "      <td>6.659340e+05</td>\n",
       "      <td>0.127319</td>\n",
       "      <td>3.632812</td>\n",
       "    </tr>\n",
       "    <tr>\n",
       "      <th>min</th>\n",
       "      <td>19.625000</td>\n",
       "      <td>0.000000</td>\n",
       "      <td>988.000000</td>\n",
       "      <td>0.000200</td>\n",
       "      <td>1.543204e+09</td>\n",
       "      <td>0.449951</td>\n",
       "      <td>0.290039</td>\n",
       "    </tr>\n",
       "    <tr>\n",
       "      <th>25%</th>\n",
       "      <td>36.085938</td>\n",
       "      <td>0.439941</td>\n",
       "      <td>997.875000</td>\n",
       "      <td>0.004902</td>\n",
       "      <td>1.543387e+09</td>\n",
       "      <td>0.669922</td>\n",
       "      <td>3.517090</td>\n",
       "    </tr>\n",
       "    <tr>\n",
       "      <th>50%</th>\n",
       "      <td>40.125000</td>\n",
       "      <td>0.779785</td>\n",
       "      <td>1007.500000</td>\n",
       "      <td>0.014847</td>\n",
       "      <td>1.543514e+09</td>\n",
       "      <td>0.759766</td>\n",
       "      <td>6.570312</td>\n",
       "    </tr>\n",
       "    <tr>\n",
       "      <th>75%</th>\n",
       "      <td>42.843750</td>\n",
       "      <td>0.970215</td>\n",
       "      <td>1018.500000</td>\n",
       "      <td>0.060913</td>\n",
       "      <td>1.544691e+09</td>\n",
       "      <td>0.890137</td>\n",
       "      <td>9.921875</td>\n",
       "    </tr>\n",
       "    <tr>\n",
       "      <th>max</th>\n",
       "      <td>55.406250</td>\n",
       "      <td>1.000000</td>\n",
       "      <td>1035.000000</td>\n",
       "      <td>0.780762</td>\n",
       "      <td>1.545159e+09</td>\n",
       "      <td>0.990234</td>\n",
       "      <td>18.187500</td>\n",
       "    </tr>\n",
       "  </tbody>\n",
       "</table>\n",
       "</div>"
      ],
      "text/plain": [
       "              temp       clouds     pressure        rain    time_stamp  \\\n",
       "count  6276.000000  6276.000000  6276.000000  894.000000  6.276000e+03   \n",
       "mean     39.090526     0.677734  1008.443754    0.057648  1.543857e+09   \n",
       "std       6.022029     0.314453    12.874074    0.100769  6.659340e+05   \n",
       "min      19.625000     0.000000   988.000000    0.000200  1.543204e+09   \n",
       "25%      36.085938     0.439941   997.875000    0.004902  1.543387e+09   \n",
       "50%      40.125000     0.779785  1007.500000    0.014847  1.543514e+09   \n",
       "75%      42.843750     0.970215  1018.500000    0.060913  1.544691e+09   \n",
       "max      55.406250     1.000000  1035.000000    0.780762  1.545159e+09   \n",
       "\n",
       "          humidity         wind  \n",
       "count  6276.000000  6276.000000  \n",
       "mean      0.764160     6.800781  \n",
       "std       0.127319     3.632812  \n",
       "min       0.449951     0.290039  \n",
       "25%       0.669922     3.517090  \n",
       "50%       0.759766     6.570312  \n",
       "75%       0.890137     9.921875  \n",
       "max       0.990234    18.187500  "
      ]
     },
     "execution_count": 16,
     "metadata": {},
     "output_type": "execute_result"
    }
   ],
   "source": [
    "weather_data.describe()"
   ]
  },
  {
   "cell_type": "markdown",
   "id": "f7f263ce",
   "metadata": {
    "papermill": {
     "duration": 0.043869,
     "end_time": "2021-07-22T11:09:35.809955",
     "exception": false,
     "start_time": "2021-07-22T11:09:35.766086",
     "status": "completed"
    },
    "tags": []
   },
   "source": [
    "concatinating the two data sets together"
   ]
  },
  {
   "cell_type": "code",
   "execution_count": 17,
   "id": "1a5a058c",
   "metadata": {
    "execution": {
     "iopub.execute_input": "2021-07-22T11:09:35.905703Z",
     "iopub.status.busy": "2021-07-22T11:09:35.904644Z",
     "iopub.status.idle": "2021-07-22T11:09:37.137702Z",
     "shell.execute_reply": "2021-07-22T11:09:37.137139Z",
     "shell.execute_reply.started": "2021-07-11T06:30:38.271999Z"
    },
    "papermill": {
     "duration": 1.283115,
     "end_time": "2021-07-22T11:09:37.137852",
     "exception": false,
     "start_time": "2021-07-22T11:09:35.854737",
     "status": "completed"
    },
    "tags": []
   },
   "outputs": [],
   "source": [
    "a=pd.concat([cab_data,weather_data])"
   ]
  },
  {
   "cell_type": "code",
   "execution_count": 18,
   "id": "9b754387",
   "metadata": {
    "execution": {
     "iopub.execute_input": "2021-07-22T11:09:37.231780Z",
     "iopub.status.busy": "2021-07-22T11:09:37.231159Z",
     "iopub.status.idle": "2021-07-22T11:09:37.252525Z",
     "shell.execute_reply": "2021-07-22T11:09:37.253234Z",
     "shell.execute_reply.started": "2021-07-11T06:30:39.501434Z"
    },
    "papermill": {
     "duration": 0.071119,
     "end_time": "2021-07-22T11:09:37.253418",
     "exception": false,
     "start_time": "2021-07-22T11:09:37.182299",
     "status": "completed"
    },
    "tags": []
   },
   "outputs": [
    {
     "data": {
      "text/html": [
       "<div>\n",
       "<style scoped>\n",
       "    .dataframe tbody tr th:only-of-type {\n",
       "        vertical-align: middle;\n",
       "    }\n",
       "\n",
       "    .dataframe tbody tr th {\n",
       "        vertical-align: top;\n",
       "    }\n",
       "\n",
       "    .dataframe thead th {\n",
       "        text-align: right;\n",
       "    }\n",
       "</style>\n",
       "<table border=\"1\" class=\"dataframe\">\n",
       "  <thead>\n",
       "    <tr style=\"text-align: right;\">\n",
       "      <th></th>\n",
       "      <th>distance</th>\n",
       "      <th>cab_type</th>\n",
       "      <th>time_stamp</th>\n",
       "      <th>destination</th>\n",
       "      <th>source</th>\n",
       "      <th>price</th>\n",
       "      <th>surge_multiplier</th>\n",
       "      <th>id</th>\n",
       "      <th>product_id</th>\n",
       "      <th>name</th>\n",
       "      <th>date_time</th>\n",
       "      <th>temp</th>\n",
       "      <th>location</th>\n",
       "      <th>clouds</th>\n",
       "      <th>pressure</th>\n",
       "      <th>rain</th>\n",
       "      <th>humidity</th>\n",
       "      <th>wind</th>\n",
       "    </tr>\n",
       "  </thead>\n",
       "  <tbody>\n",
       "    <tr>\n",
       "      <th>0</th>\n",
       "      <td>0.439941</td>\n",
       "      <td>Lyft</td>\n",
       "      <td>1.544950e+12</td>\n",
       "      <td>North Station</td>\n",
       "      <td>Haymarket Square</td>\n",
       "      <td>5.0</td>\n",
       "      <td>1.0</td>\n",
       "      <td>424553bb-7174-41ea-aeb4-fe06d4f4b9d7</td>\n",
       "      <td>lyft_line</td>\n",
       "      <td>Shared</td>\n",
       "      <td>1970-01-01 00:25:44.949989376</td>\n",
       "      <td>NaN</td>\n",
       "      <td>NaN</td>\n",
       "      <td>NaN</td>\n",
       "      <td>NaN</td>\n",
       "      <td>NaN</td>\n",
       "      <td>NaN</td>\n",
       "      <td>NaN</td>\n",
       "    </tr>\n",
       "    <tr>\n",
       "      <th>1</th>\n",
       "      <td>0.439941</td>\n",
       "      <td>Lyft</td>\n",
       "      <td>1.543280e+12</td>\n",
       "      <td>North Station</td>\n",
       "      <td>Haymarket Square</td>\n",
       "      <td>11.0</td>\n",
       "      <td>1.0</td>\n",
       "      <td>4bd23055-6827-41c6-b23b-3c491f24e74d</td>\n",
       "      <td>lyft_premier</td>\n",
       "      <td>Lux</td>\n",
       "      <td>1970-01-01 00:25:43.280001024</td>\n",
       "      <td>NaN</td>\n",
       "      <td>NaN</td>\n",
       "      <td>NaN</td>\n",
       "      <td>NaN</td>\n",
       "      <td>NaN</td>\n",
       "      <td>NaN</td>\n",
       "      <td>NaN</td>\n",
       "    </tr>\n",
       "    <tr>\n",
       "      <th>2</th>\n",
       "      <td>0.439941</td>\n",
       "      <td>Lyft</td>\n",
       "      <td>1.543370e+12</td>\n",
       "      <td>North Station</td>\n",
       "      <td>Haymarket Square</td>\n",
       "      <td>7.0</td>\n",
       "      <td>1.0</td>\n",
       "      <td>981a3613-77af-4620-a42a-0c0866077d1e</td>\n",
       "      <td>lyft</td>\n",
       "      <td>Lyft</td>\n",
       "      <td>1970-01-01 00:25:43.370047488</td>\n",
       "      <td>NaN</td>\n",
       "      <td>NaN</td>\n",
       "      <td>NaN</td>\n",
       "      <td>NaN</td>\n",
       "      <td>NaN</td>\n",
       "      <td>NaN</td>\n",
       "      <td>NaN</td>\n",
       "    </tr>\n",
       "    <tr>\n",
       "      <th>3</th>\n",
       "      <td>0.439941</td>\n",
       "      <td>Lyft</td>\n",
       "      <td>1.543550e+12</td>\n",
       "      <td>North Station</td>\n",
       "      <td>Haymarket Square</td>\n",
       "      <td>26.0</td>\n",
       "      <td>1.0</td>\n",
       "      <td>c2d88af2-d278-4bfd-a8d0-29ca77cc5512</td>\n",
       "      <td>lyft_luxsuv</td>\n",
       "      <td>Lux Black XL</td>\n",
       "      <td>1970-01-01 00:25:43.550009344</td>\n",
       "      <td>NaN</td>\n",
       "      <td>NaN</td>\n",
       "      <td>NaN</td>\n",
       "      <td>NaN</td>\n",
       "      <td>NaN</td>\n",
       "      <td>NaN</td>\n",
       "      <td>NaN</td>\n",
       "    </tr>\n",
       "    <tr>\n",
       "      <th>4</th>\n",
       "      <td>0.439941</td>\n",
       "      <td>Lyft</td>\n",
       "      <td>1.543460e+12</td>\n",
       "      <td>North Station</td>\n",
       "      <td>Haymarket Square</td>\n",
       "      <td>9.0</td>\n",
       "      <td>1.0</td>\n",
       "      <td>e0126e1f-8ca9-4f2e-82b3-50505a09db9a</td>\n",
       "      <td>lyft_plus</td>\n",
       "      <td>Lyft XL</td>\n",
       "      <td>1970-01-01 00:25:43.459962880</td>\n",
       "      <td>NaN</td>\n",
       "      <td>NaN</td>\n",
       "      <td>NaN</td>\n",
       "      <td>NaN</td>\n",
       "      <td>NaN</td>\n",
       "      <td>NaN</td>\n",
       "      <td>NaN</td>\n",
       "    </tr>\n",
       "  </tbody>\n",
       "</table>\n",
       "</div>"
      ],
      "text/plain": [
       "   distance cab_type    time_stamp    destination            source  price  \\\n",
       "0  0.439941     Lyft  1.544950e+12  North Station  Haymarket Square    5.0   \n",
       "1  0.439941     Lyft  1.543280e+12  North Station  Haymarket Square   11.0   \n",
       "2  0.439941     Lyft  1.543370e+12  North Station  Haymarket Square    7.0   \n",
       "3  0.439941     Lyft  1.543550e+12  North Station  Haymarket Square   26.0   \n",
       "4  0.439941     Lyft  1.543460e+12  North Station  Haymarket Square    9.0   \n",
       "\n",
       "   surge_multiplier                                    id    product_id  \\\n",
       "0               1.0  424553bb-7174-41ea-aeb4-fe06d4f4b9d7     lyft_line   \n",
       "1               1.0  4bd23055-6827-41c6-b23b-3c491f24e74d  lyft_premier   \n",
       "2               1.0  981a3613-77af-4620-a42a-0c0866077d1e          lyft   \n",
       "3               1.0  c2d88af2-d278-4bfd-a8d0-29ca77cc5512   lyft_luxsuv   \n",
       "4               1.0  e0126e1f-8ca9-4f2e-82b3-50505a09db9a     lyft_plus   \n",
       "\n",
       "           name                     date_time  temp location  clouds  \\\n",
       "0        Shared 1970-01-01 00:25:44.949989376   NaN      NaN     NaN   \n",
       "1           Lux 1970-01-01 00:25:43.280001024   NaN      NaN     NaN   \n",
       "2          Lyft 1970-01-01 00:25:43.370047488   NaN      NaN     NaN   \n",
       "3  Lux Black XL 1970-01-01 00:25:43.550009344   NaN      NaN     NaN   \n",
       "4       Lyft XL 1970-01-01 00:25:43.459962880   NaN      NaN     NaN   \n",
       "\n",
       "   pressure  rain  humidity  wind  \n",
       "0       NaN   NaN       NaN   NaN  \n",
       "1       NaN   NaN       NaN   NaN  \n",
       "2       NaN   NaN       NaN   NaN  \n",
       "3       NaN   NaN       NaN   NaN  \n",
       "4       NaN   NaN       NaN   NaN  "
      ]
     },
     "execution_count": 18,
     "metadata": {},
     "output_type": "execute_result"
    }
   ],
   "source": [
    "a.head()"
   ]
  },
  {
   "cell_type": "markdown",
   "id": "b43e38f7",
   "metadata": {
    "papermill": {
     "duration": 0.044264,
     "end_time": "2021-07-22T11:09:37.342190",
     "exception": false,
     "start_time": "2021-07-22T11:09:37.297926",
     "status": "completed"
    },
    "tags": []
   },
   "source": [
    "adding two new columns to the dataset"
   ]
  },
  {
   "cell_type": "code",
   "execution_count": 19,
   "id": "1d483fc3",
   "metadata": {
    "execution": {
     "iopub.execute_input": "2021-07-22T11:09:37.434154Z",
     "iopub.status.busy": "2021-07-22T11:09:37.433488Z",
     "iopub.status.idle": "2021-07-22T11:09:37.572959Z",
     "shell.execute_reply": "2021-07-22T11:09:37.573534Z",
     "shell.execute_reply.started": "2021-07-11T06:30:39.53056Z"
    },
    "papermill": {
     "duration": 0.186869,
     "end_time": "2021-07-22T11:09:37.573708",
     "exception": false,
     "start_time": "2021-07-22T11:09:37.386839",
     "status": "completed"
    },
    "tags": []
   },
   "outputs": [],
   "source": [
    "a['day']=a.date_time.dt.day\n",
    "a['hour']=a.date_time.dt.hour"
   ]
  },
  {
   "cell_type": "code",
   "execution_count": 20,
   "id": "7cefbef4",
   "metadata": {
    "execution": {
     "iopub.execute_input": "2021-07-22T11:09:37.666039Z",
     "iopub.status.busy": "2021-07-22T11:09:37.665346Z",
     "iopub.status.idle": "2021-07-22T11:09:37.691343Z",
     "shell.execute_reply": "2021-07-22T11:09:37.691922Z",
     "shell.execute_reply.started": "2021-07-11T06:30:39.669696Z"
    },
    "papermill": {
     "duration": 0.073794,
     "end_time": "2021-07-22T11:09:37.692117",
     "exception": false,
     "start_time": "2021-07-22T11:09:37.618323",
     "status": "completed"
    },
    "tags": []
   },
   "outputs": [
    {
     "data": {
      "text/html": [
       "<div>\n",
       "<style scoped>\n",
       "    .dataframe tbody tr th:only-of-type {\n",
       "        vertical-align: middle;\n",
       "    }\n",
       "\n",
       "    .dataframe tbody tr th {\n",
       "        vertical-align: top;\n",
       "    }\n",
       "\n",
       "    .dataframe thead th {\n",
       "        text-align: right;\n",
       "    }\n",
       "</style>\n",
       "<table border=\"1\" class=\"dataframe\">\n",
       "  <thead>\n",
       "    <tr style=\"text-align: right;\">\n",
       "      <th></th>\n",
       "      <th>distance</th>\n",
       "      <th>cab_type</th>\n",
       "      <th>time_stamp</th>\n",
       "      <th>destination</th>\n",
       "      <th>source</th>\n",
       "      <th>price</th>\n",
       "      <th>surge_multiplier</th>\n",
       "      <th>id</th>\n",
       "      <th>product_id</th>\n",
       "      <th>name</th>\n",
       "      <th>date_time</th>\n",
       "      <th>temp</th>\n",
       "      <th>location</th>\n",
       "      <th>clouds</th>\n",
       "      <th>pressure</th>\n",
       "      <th>rain</th>\n",
       "      <th>humidity</th>\n",
       "      <th>wind</th>\n",
       "      <th>day</th>\n",
       "      <th>hour</th>\n",
       "    </tr>\n",
       "  </thead>\n",
       "  <tbody>\n",
       "    <tr>\n",
       "      <th>6271</th>\n",
       "      <td>NaN</td>\n",
       "      <td>NaN</td>\n",
       "      <td>1.543820e+09</td>\n",
       "      <td>NaN</td>\n",
       "      <td>NaN</td>\n",
       "      <td>NaN</td>\n",
       "      <td>NaN</td>\n",
       "      <td>NaN</td>\n",
       "      <td>NaN</td>\n",
       "      <td>NaN</td>\n",
       "      <td>1970-01-01 00:00:01.543819974</td>\n",
       "      <td>44.71875</td>\n",
       "      <td>North Station</td>\n",
       "      <td>0.890137</td>\n",
       "      <td>1000.5</td>\n",
       "      <td>NaN</td>\n",
       "      <td>0.959961</td>\n",
       "      <td>1.519531</td>\n",
       "      <td>1</td>\n",
       "      <td>0</td>\n",
       "    </tr>\n",
       "    <tr>\n",
       "      <th>6272</th>\n",
       "      <td>NaN</td>\n",
       "      <td>NaN</td>\n",
       "      <td>1.543820e+09</td>\n",
       "      <td>NaN</td>\n",
       "      <td>NaN</td>\n",
       "      <td>NaN</td>\n",
       "      <td>NaN</td>\n",
       "      <td>NaN</td>\n",
       "      <td>NaN</td>\n",
       "      <td>NaN</td>\n",
       "      <td>1970-01-01 00:00:01.543819974</td>\n",
       "      <td>44.84375</td>\n",
       "      <td>Northeastern University</td>\n",
       "      <td>0.879883</td>\n",
       "      <td>1000.5</td>\n",
       "      <td>NaN</td>\n",
       "      <td>0.959961</td>\n",
       "      <td>1.540039</td>\n",
       "      <td>1</td>\n",
       "      <td>0</td>\n",
       "    </tr>\n",
       "    <tr>\n",
       "      <th>6273</th>\n",
       "      <td>NaN</td>\n",
       "      <td>NaN</td>\n",
       "      <td>1.543820e+09</td>\n",
       "      <td>NaN</td>\n",
       "      <td>NaN</td>\n",
       "      <td>NaN</td>\n",
       "      <td>NaN</td>\n",
       "      <td>NaN</td>\n",
       "      <td>NaN</td>\n",
       "      <td>NaN</td>\n",
       "      <td>1970-01-01 00:00:01.543819974</td>\n",
       "      <td>44.81250</td>\n",
       "      <td>South Station</td>\n",
       "      <td>0.890137</td>\n",
       "      <td>1000.5</td>\n",
       "      <td>NaN</td>\n",
       "      <td>0.959961</td>\n",
       "      <td>1.540039</td>\n",
       "      <td>1</td>\n",
       "      <td>0</td>\n",
       "    </tr>\n",
       "    <tr>\n",
       "      <th>6274</th>\n",
       "      <td>NaN</td>\n",
       "      <td>NaN</td>\n",
       "      <td>1.543820e+09</td>\n",
       "      <td>NaN</td>\n",
       "      <td>NaN</td>\n",
       "      <td>NaN</td>\n",
       "      <td>NaN</td>\n",
       "      <td>NaN</td>\n",
       "      <td>NaN</td>\n",
       "      <td>NaN</td>\n",
       "      <td>1970-01-01 00:00:01.543819974</td>\n",
       "      <td>44.78125</td>\n",
       "      <td>Theatre District</td>\n",
       "      <td>0.890137</td>\n",
       "      <td>1000.5</td>\n",
       "      <td>NaN</td>\n",
       "      <td>0.959961</td>\n",
       "      <td>1.540039</td>\n",
       "      <td>1</td>\n",
       "      <td>0</td>\n",
       "    </tr>\n",
       "    <tr>\n",
       "      <th>6275</th>\n",
       "      <td>NaN</td>\n",
       "      <td>NaN</td>\n",
       "      <td>1.543820e+09</td>\n",
       "      <td>NaN</td>\n",
       "      <td>NaN</td>\n",
       "      <td>NaN</td>\n",
       "      <td>NaN</td>\n",
       "      <td>NaN</td>\n",
       "      <td>NaN</td>\n",
       "      <td>NaN</td>\n",
       "      <td>1970-01-01 00:00:01.543819974</td>\n",
       "      <td>44.68750</td>\n",
       "      <td>West End</td>\n",
       "      <td>0.890137</td>\n",
       "      <td>1000.5</td>\n",
       "      <td>NaN</td>\n",
       "      <td>0.959961</td>\n",
       "      <td>1.519531</td>\n",
       "      <td>1</td>\n",
       "      <td>0</td>\n",
       "    </tr>\n",
       "  </tbody>\n",
       "</table>\n",
       "</div>"
      ],
      "text/plain": [
       "      distance cab_type    time_stamp destination source  price  \\\n",
       "6271       NaN      NaN  1.543820e+09         NaN    NaN    NaN   \n",
       "6272       NaN      NaN  1.543820e+09         NaN    NaN    NaN   \n",
       "6273       NaN      NaN  1.543820e+09         NaN    NaN    NaN   \n",
       "6274       NaN      NaN  1.543820e+09         NaN    NaN    NaN   \n",
       "6275       NaN      NaN  1.543820e+09         NaN    NaN    NaN   \n",
       "\n",
       "      surge_multiplier   id product_id name                     date_time  \\\n",
       "6271               NaN  NaN        NaN  NaN 1970-01-01 00:00:01.543819974   \n",
       "6272               NaN  NaN        NaN  NaN 1970-01-01 00:00:01.543819974   \n",
       "6273               NaN  NaN        NaN  NaN 1970-01-01 00:00:01.543819974   \n",
       "6274               NaN  NaN        NaN  NaN 1970-01-01 00:00:01.543819974   \n",
       "6275               NaN  NaN        NaN  NaN 1970-01-01 00:00:01.543819974   \n",
       "\n",
       "          temp                 location    clouds  pressure  rain  humidity  \\\n",
       "6271  44.71875            North Station  0.890137    1000.5   NaN  0.959961   \n",
       "6272  44.84375  Northeastern University  0.879883    1000.5   NaN  0.959961   \n",
       "6273  44.81250            South Station  0.890137    1000.5   NaN  0.959961   \n",
       "6274  44.78125         Theatre District  0.890137    1000.5   NaN  0.959961   \n",
       "6275  44.68750                 West End  0.890137    1000.5   NaN  0.959961   \n",
       "\n",
       "          wind  day  hour  \n",
       "6271  1.519531    1     0  \n",
       "6272  1.540039    1     0  \n",
       "6273  1.540039    1     0  \n",
       "6274  1.540039    1     0  \n",
       "6275  1.519531    1     0  "
      ]
     },
     "execution_count": 20,
     "metadata": {},
     "output_type": "execute_result"
    }
   ],
   "source": [
    "a.tail()"
   ]
  },
  {
   "cell_type": "markdown",
   "id": "0c63bbcf",
   "metadata": {
    "papermill": {
     "duration": 0.046357,
     "end_time": "2021-07-22T11:09:37.783676",
     "exception": false,
     "start_time": "2021-07-22T11:09:37.737319",
     "status": "completed"
    },
    "tags": []
   },
   "source": [
    "filling the missing attributes with 0"
   ]
  },
  {
   "cell_type": "code",
   "execution_count": 21,
   "id": "b67a6b03",
   "metadata": {
    "execution": {
     "iopub.execute_input": "2021-07-22T11:09:37.877154Z",
     "iopub.status.busy": "2021-07-22T11:09:37.876479Z",
     "iopub.status.idle": "2021-07-22T11:09:39.058316Z",
     "shell.execute_reply": "2021-07-22T11:09:39.056923Z",
     "shell.execute_reply.started": "2021-07-11T06:30:39.698194Z"
    },
    "papermill": {
     "duration": 1.229648,
     "end_time": "2021-07-22T11:09:39.058476",
     "exception": false,
     "start_time": "2021-07-22T11:09:37.828828",
     "status": "completed"
    },
    "tags": []
   },
   "outputs": [],
   "source": [
    "a.fillna(0,inplace=True)"
   ]
  },
  {
   "cell_type": "code",
   "execution_count": 22,
   "id": "06290a60",
   "metadata": {
    "execution": {
     "iopub.execute_input": "2021-07-22T11:09:39.181038Z",
     "iopub.status.busy": "2021-07-22T11:09:39.180051Z",
     "iopub.status.idle": "2021-07-22T11:09:39.184885Z",
     "shell.execute_reply": "2021-07-22T11:09:39.184273Z",
     "shell.execute_reply.started": "2021-07-11T06:30:40.841629Z"
    },
    "papermill": {
     "duration": 0.080105,
     "end_time": "2021-07-22T11:09:39.185042",
     "exception": false,
     "start_time": "2021-07-22T11:09:39.104937",
     "status": "completed"
    },
    "tags": []
   },
   "outputs": [
    {
     "data": {
      "text/html": [
       "<div>\n",
       "<style scoped>\n",
       "    .dataframe tbody tr th:only-of-type {\n",
       "        vertical-align: middle;\n",
       "    }\n",
       "\n",
       "    .dataframe tbody tr th {\n",
       "        vertical-align: top;\n",
       "    }\n",
       "\n",
       "    .dataframe thead th {\n",
       "        text-align: right;\n",
       "    }\n",
       "</style>\n",
       "<table border=\"1\" class=\"dataframe\">\n",
       "  <thead>\n",
       "    <tr style=\"text-align: right;\">\n",
       "      <th></th>\n",
       "      <th>distance</th>\n",
       "      <th>cab_type</th>\n",
       "      <th>time_stamp</th>\n",
       "      <th>destination</th>\n",
       "      <th>source</th>\n",
       "      <th>price</th>\n",
       "      <th>surge_multiplier</th>\n",
       "      <th>id</th>\n",
       "      <th>product_id</th>\n",
       "      <th>name</th>\n",
       "      <th>date_time</th>\n",
       "      <th>temp</th>\n",
       "      <th>location</th>\n",
       "      <th>clouds</th>\n",
       "      <th>pressure</th>\n",
       "      <th>rain</th>\n",
       "      <th>humidity</th>\n",
       "      <th>wind</th>\n",
       "      <th>day</th>\n",
       "      <th>hour</th>\n",
       "    </tr>\n",
       "  </thead>\n",
       "  <tbody>\n",
       "    <tr>\n",
       "      <th>0</th>\n",
       "      <td>0.439941</td>\n",
       "      <td>Lyft</td>\n",
       "      <td>1.544950e+12</td>\n",
       "      <td>North Station</td>\n",
       "      <td>Haymarket Square</td>\n",
       "      <td>5.0</td>\n",
       "      <td>1.0</td>\n",
       "      <td>424553bb-7174-41ea-aeb4-fe06d4f4b9d7</td>\n",
       "      <td>lyft_line</td>\n",
       "      <td>Shared</td>\n",
       "      <td>1970-01-01 00:25:44.949989376</td>\n",
       "      <td>0.0</td>\n",
       "      <td>0</td>\n",
       "      <td>0.0</td>\n",
       "      <td>0.0</td>\n",
       "      <td>0.0</td>\n",
       "      <td>0.0</td>\n",
       "      <td>0.0</td>\n",
       "      <td>1</td>\n",
       "      <td>0</td>\n",
       "    </tr>\n",
       "    <tr>\n",
       "      <th>1</th>\n",
       "      <td>0.439941</td>\n",
       "      <td>Lyft</td>\n",
       "      <td>1.543280e+12</td>\n",
       "      <td>North Station</td>\n",
       "      <td>Haymarket Square</td>\n",
       "      <td>11.0</td>\n",
       "      <td>1.0</td>\n",
       "      <td>4bd23055-6827-41c6-b23b-3c491f24e74d</td>\n",
       "      <td>lyft_premier</td>\n",
       "      <td>Lux</td>\n",
       "      <td>1970-01-01 00:25:43.280001024</td>\n",
       "      <td>0.0</td>\n",
       "      <td>0</td>\n",
       "      <td>0.0</td>\n",
       "      <td>0.0</td>\n",
       "      <td>0.0</td>\n",
       "      <td>0.0</td>\n",
       "      <td>0.0</td>\n",
       "      <td>1</td>\n",
       "      <td>0</td>\n",
       "    </tr>\n",
       "    <tr>\n",
       "      <th>2</th>\n",
       "      <td>0.439941</td>\n",
       "      <td>Lyft</td>\n",
       "      <td>1.543370e+12</td>\n",
       "      <td>North Station</td>\n",
       "      <td>Haymarket Square</td>\n",
       "      <td>7.0</td>\n",
       "      <td>1.0</td>\n",
       "      <td>981a3613-77af-4620-a42a-0c0866077d1e</td>\n",
       "      <td>lyft</td>\n",
       "      <td>Lyft</td>\n",
       "      <td>1970-01-01 00:25:43.370047488</td>\n",
       "      <td>0.0</td>\n",
       "      <td>0</td>\n",
       "      <td>0.0</td>\n",
       "      <td>0.0</td>\n",
       "      <td>0.0</td>\n",
       "      <td>0.0</td>\n",
       "      <td>0.0</td>\n",
       "      <td>1</td>\n",
       "      <td>0</td>\n",
       "    </tr>\n",
       "    <tr>\n",
       "      <th>3</th>\n",
       "      <td>0.439941</td>\n",
       "      <td>Lyft</td>\n",
       "      <td>1.543550e+12</td>\n",
       "      <td>North Station</td>\n",
       "      <td>Haymarket Square</td>\n",
       "      <td>26.0</td>\n",
       "      <td>1.0</td>\n",
       "      <td>c2d88af2-d278-4bfd-a8d0-29ca77cc5512</td>\n",
       "      <td>lyft_luxsuv</td>\n",
       "      <td>Lux Black XL</td>\n",
       "      <td>1970-01-01 00:25:43.550009344</td>\n",
       "      <td>0.0</td>\n",
       "      <td>0</td>\n",
       "      <td>0.0</td>\n",
       "      <td>0.0</td>\n",
       "      <td>0.0</td>\n",
       "      <td>0.0</td>\n",
       "      <td>0.0</td>\n",
       "      <td>1</td>\n",
       "      <td>0</td>\n",
       "    </tr>\n",
       "    <tr>\n",
       "      <th>4</th>\n",
       "      <td>0.439941</td>\n",
       "      <td>Lyft</td>\n",
       "      <td>1.543460e+12</td>\n",
       "      <td>North Station</td>\n",
       "      <td>Haymarket Square</td>\n",
       "      <td>9.0</td>\n",
       "      <td>1.0</td>\n",
       "      <td>e0126e1f-8ca9-4f2e-82b3-50505a09db9a</td>\n",
       "      <td>lyft_plus</td>\n",
       "      <td>Lyft XL</td>\n",
       "      <td>1970-01-01 00:25:43.459962880</td>\n",
       "      <td>0.0</td>\n",
       "      <td>0</td>\n",
       "      <td>0.0</td>\n",
       "      <td>0.0</td>\n",
       "      <td>0.0</td>\n",
       "      <td>0.0</td>\n",
       "      <td>0.0</td>\n",
       "      <td>1</td>\n",
       "      <td>0</td>\n",
       "    </tr>\n",
       "  </tbody>\n",
       "</table>\n",
       "</div>"
      ],
      "text/plain": [
       "   distance cab_type    time_stamp    destination            source  price  \\\n",
       "0  0.439941     Lyft  1.544950e+12  North Station  Haymarket Square    5.0   \n",
       "1  0.439941     Lyft  1.543280e+12  North Station  Haymarket Square   11.0   \n",
       "2  0.439941     Lyft  1.543370e+12  North Station  Haymarket Square    7.0   \n",
       "3  0.439941     Lyft  1.543550e+12  North Station  Haymarket Square   26.0   \n",
       "4  0.439941     Lyft  1.543460e+12  North Station  Haymarket Square    9.0   \n",
       "\n",
       "   surge_multiplier                                    id    product_id  \\\n",
       "0               1.0  424553bb-7174-41ea-aeb4-fe06d4f4b9d7     lyft_line   \n",
       "1               1.0  4bd23055-6827-41c6-b23b-3c491f24e74d  lyft_premier   \n",
       "2               1.0  981a3613-77af-4620-a42a-0c0866077d1e          lyft   \n",
       "3               1.0  c2d88af2-d278-4bfd-a8d0-29ca77cc5512   lyft_luxsuv   \n",
       "4               1.0  e0126e1f-8ca9-4f2e-82b3-50505a09db9a     lyft_plus   \n",
       "\n",
       "           name                     date_time  temp location  clouds  \\\n",
       "0        Shared 1970-01-01 00:25:44.949989376   0.0        0     0.0   \n",
       "1           Lux 1970-01-01 00:25:43.280001024   0.0        0     0.0   \n",
       "2          Lyft 1970-01-01 00:25:43.370047488   0.0        0     0.0   \n",
       "3  Lux Black XL 1970-01-01 00:25:43.550009344   0.0        0     0.0   \n",
       "4       Lyft XL 1970-01-01 00:25:43.459962880   0.0        0     0.0   \n",
       "\n",
       "   pressure  rain  humidity  wind  day  hour  \n",
       "0       0.0   0.0       0.0   0.0    1     0  \n",
       "1       0.0   0.0       0.0   0.0    1     0  \n",
       "2       0.0   0.0       0.0   0.0    1     0  \n",
       "3       0.0   0.0       0.0   0.0    1     0  \n",
       "4       0.0   0.0       0.0   0.0    1     0  "
      ]
     },
     "execution_count": 22,
     "metadata": {},
     "output_type": "execute_result"
    }
   ],
   "source": [
    "a.head()"
   ]
  },
  {
   "cell_type": "code",
   "execution_count": 23,
   "id": "f1ff7b30",
   "metadata": {
    "execution": {
     "iopub.execute_input": "2021-07-22T11:09:39.300283Z",
     "iopub.status.busy": "2021-07-22T11:09:39.299307Z",
     "iopub.status.idle": "2021-07-22T11:09:39.308549Z",
     "shell.execute_reply": "2021-07-22T11:09:39.309219Z",
     "shell.execute_reply.started": "2021-07-11T06:30:40.875007Z"
    },
    "papermill": {
     "duration": 0.078223,
     "end_time": "2021-07-22T11:09:39.309399",
     "exception": false,
     "start_time": "2021-07-22T11:09:39.231176",
     "status": "completed"
    },
    "tags": []
   },
   "outputs": [
    {
     "data": {
      "text/plain": [
       "Index(['distance', 'cab_type', 'time_stamp', 'destination', 'source', 'price',\n",
       "       'surge_multiplier', 'id', 'product_id', 'name', 'date_time', 'temp',\n",
       "       'location', 'clouds', 'pressure', 'rain', 'humidity', 'wind', 'day',\n",
       "       'hour'],\n",
       "      dtype='object')"
      ]
     },
     "execution_count": 23,
     "metadata": {},
     "output_type": "execute_result"
    }
   ],
   "source": [
    "a.columns"
   ]
  },
  {
   "cell_type": "markdown",
   "id": "840d0c64",
   "metadata": {
    "papermill": {
     "duration": 0.046059,
     "end_time": "2021-07-22T11:09:39.410183",
     "exception": false,
     "start_time": "2021-07-22T11:09:39.364124",
     "status": "completed"
    },
    "tags": []
   },
   "source": [
    "grouping the dataset by cab types"
   ]
  },
  {
   "cell_type": "code",
   "execution_count": 24,
   "id": "345f6164",
   "metadata": {
    "execution": {
     "iopub.execute_input": "2021-07-22T11:09:39.506291Z",
     "iopub.status.busy": "2021-07-22T11:09:39.505676Z",
     "iopub.status.idle": "2021-07-22T11:09:40.324687Z",
     "shell.execute_reply": "2021-07-22T11:09:40.324061Z",
     "shell.execute_reply.started": "2021-07-11T06:30:40.886883Z"
    },
    "papermill": {
     "duration": 0.868237,
     "end_time": "2021-07-22T11:09:40.324823",
     "exception": false,
     "start_time": "2021-07-22T11:09:39.456586",
     "status": "completed"
    },
    "tags": []
   },
   "outputs": [
    {
     "data": {
      "text/html": [
       "<div>\n",
       "<style scoped>\n",
       "    .dataframe tbody tr th:only-of-type {\n",
       "        vertical-align: middle;\n",
       "    }\n",
       "\n",
       "    .dataframe tbody tr th {\n",
       "        vertical-align: top;\n",
       "    }\n",
       "\n",
       "    .dataframe thead th {\n",
       "        text-align: right;\n",
       "    }\n",
       "</style>\n",
       "<table border=\"1\" class=\"dataframe\">\n",
       "  <thead>\n",
       "    <tr style=\"text-align: right;\">\n",
       "      <th></th>\n",
       "      <th>distance</th>\n",
       "      <th>time_stamp</th>\n",
       "      <th>destination</th>\n",
       "      <th>source</th>\n",
       "      <th>price</th>\n",
       "      <th>surge_multiplier</th>\n",
       "      <th>id</th>\n",
       "      <th>product_id</th>\n",
       "      <th>name</th>\n",
       "      <th>date_time</th>\n",
       "      <th>temp</th>\n",
       "      <th>location</th>\n",
       "      <th>clouds</th>\n",
       "      <th>pressure</th>\n",
       "      <th>rain</th>\n",
       "      <th>humidity</th>\n",
       "      <th>wind</th>\n",
       "      <th>day</th>\n",
       "      <th>hour</th>\n",
       "    </tr>\n",
       "    <tr>\n",
       "      <th>cab_type</th>\n",
       "      <th></th>\n",
       "      <th></th>\n",
       "      <th></th>\n",
       "      <th></th>\n",
       "      <th></th>\n",
       "      <th></th>\n",
       "      <th></th>\n",
       "      <th></th>\n",
       "      <th></th>\n",
       "      <th></th>\n",
       "      <th></th>\n",
       "      <th></th>\n",
       "      <th></th>\n",
       "      <th></th>\n",
       "      <th></th>\n",
       "      <th></th>\n",
       "      <th></th>\n",
       "      <th></th>\n",
       "      <th></th>\n",
       "    </tr>\n",
       "  </thead>\n",
       "  <tbody>\n",
       "    <tr>\n",
       "      <th>0</th>\n",
       "      <td>6276</td>\n",
       "      <td>6276</td>\n",
       "      <td>6276</td>\n",
       "      <td>6276</td>\n",
       "      <td>6276</td>\n",
       "      <td>6276</td>\n",
       "      <td>6276</td>\n",
       "      <td>6276</td>\n",
       "      <td>6276</td>\n",
       "      <td>6276</td>\n",
       "      <td>6276</td>\n",
       "      <td>6276</td>\n",
       "      <td>6276</td>\n",
       "      <td>6276</td>\n",
       "      <td>6276</td>\n",
       "      <td>6276</td>\n",
       "      <td>6276</td>\n",
       "      <td>6276</td>\n",
       "      <td>6276</td>\n",
       "    </tr>\n",
       "    <tr>\n",
       "      <th>Lyft</th>\n",
       "      <td>307408</td>\n",
       "      <td>307408</td>\n",
       "      <td>307408</td>\n",
       "      <td>307408</td>\n",
       "      <td>307408</td>\n",
       "      <td>307408</td>\n",
       "      <td>307408</td>\n",
       "      <td>307408</td>\n",
       "      <td>307408</td>\n",
       "      <td>307408</td>\n",
       "      <td>307408</td>\n",
       "      <td>307408</td>\n",
       "      <td>307408</td>\n",
       "      <td>307408</td>\n",
       "      <td>307408</td>\n",
       "      <td>307408</td>\n",
       "      <td>307408</td>\n",
       "      <td>307408</td>\n",
       "      <td>307408</td>\n",
       "    </tr>\n",
       "    <tr>\n",
       "      <th>Uber</th>\n",
       "      <td>385663</td>\n",
       "      <td>385663</td>\n",
       "      <td>385663</td>\n",
       "      <td>385663</td>\n",
       "      <td>385663</td>\n",
       "      <td>385663</td>\n",
       "      <td>385663</td>\n",
       "      <td>385663</td>\n",
       "      <td>385663</td>\n",
       "      <td>385663</td>\n",
       "      <td>385663</td>\n",
       "      <td>385663</td>\n",
       "      <td>385663</td>\n",
       "      <td>385663</td>\n",
       "      <td>385663</td>\n",
       "      <td>385663</td>\n",
       "      <td>385663</td>\n",
       "      <td>385663</td>\n",
       "      <td>385663</td>\n",
       "    </tr>\n",
       "  </tbody>\n",
       "</table>\n",
       "</div>"
      ],
      "text/plain": [
       "          distance  time_stamp  destination  source   price  surge_multiplier  \\\n",
       "cab_type                                                                        \n",
       "0             6276        6276         6276    6276    6276              6276   \n",
       "Lyft        307408      307408       307408  307408  307408            307408   \n",
       "Uber        385663      385663       385663  385663  385663            385663   \n",
       "\n",
       "              id  product_id    name  date_time    temp  location  clouds  \\\n",
       "cab_type                                                                    \n",
       "0           6276        6276    6276       6276    6276      6276    6276   \n",
       "Lyft      307408      307408  307408     307408  307408    307408  307408   \n",
       "Uber      385663      385663  385663     385663  385663    385663  385663   \n",
       "\n",
       "          pressure    rain  humidity    wind     day    hour  \n",
       "cab_type                                                      \n",
       "0             6276    6276      6276    6276    6276    6276  \n",
       "Lyft        307408  307408    307408  307408  307408  307408  \n",
       "Uber        385663  385663    385663  385663  385663  385663  "
      ]
     },
     "execution_count": 24,
     "metadata": {},
     "output_type": "execute_result"
    }
   ],
   "source": [
    "a.groupby('cab_type').count()"
   ]
  },
  {
   "cell_type": "code",
   "execution_count": 25,
   "id": "2958635e",
   "metadata": {
    "execution": {
     "iopub.execute_input": "2021-07-22T11:09:40.427741Z",
     "iopub.status.busy": "2021-07-22T11:09:40.426974Z",
     "iopub.status.idle": "2021-07-22T11:09:41.392515Z",
     "shell.execute_reply": "2021-07-22T11:09:41.393152Z",
     "shell.execute_reply.started": "2021-07-11T06:30:41.702906Z"
    },
    "papermill": {
     "duration": 1.019616,
     "end_time": "2021-07-22T11:09:41.393343",
     "exception": false,
     "start_time": "2021-07-22T11:09:40.373727",
     "status": "completed"
    },
    "tags": []
   },
   "outputs": [],
   "source": [
    "import seaborn as sns\n",
    "%matplotlib inline\n",
    "import matplotlib.pyplot as plt\n"
   ]
  },
  {
   "cell_type": "code",
   "execution_count": 26,
   "id": "001359f9",
   "metadata": {
    "execution": {
     "iopub.execute_input": "2021-07-22T11:09:41.494649Z",
     "iopub.status.busy": "2021-07-22T11:09:41.493596Z",
     "iopub.status.idle": "2021-07-22T11:09:42.646357Z",
     "shell.execute_reply": "2021-07-22T11:09:42.645558Z",
     "shell.execute_reply.started": "2021-07-11T06:30:41.711613Z"
    },
    "papermill": {
     "duration": 1.204262,
     "end_time": "2021-07-22T11:09:42.646514",
     "exception": false,
     "start_time": "2021-07-22T11:09:41.442252",
     "status": "completed"
    },
    "tags": []
   },
   "outputs": [
    {
     "data": {
      "text/plain": [
       "<AxesSubplot:xlabel='cab_type'>"
      ]
     },
     "execution_count": 26,
     "metadata": {},
     "output_type": "execute_result"
    },
    {
     "data": {
      "image/png": "[encoded data removed]",
      "text/plain": [
       "<Figure size 432x288 with 1 Axes>"
      ]
     },
     "metadata": {
      "needs_background": "light"
     },
     "output_type": "display_data"
    }
   ],
   "source": [
    "a.groupby('cab_type').count().plot.bar()"
   ]
  },
  {
   "cell_type": "code",
   "execution_count": 27,
   "id": "d803746a",
   "metadata": {
    "execution": {
     "iopub.execute_input": "2021-07-22T11:09:42.752472Z",
     "iopub.status.busy": "2021-07-22T11:09:42.751642Z",
     "iopub.status.idle": "2021-07-22T11:09:45.866228Z",
     "shell.execute_reply": "2021-07-22T11:09:45.865683Z",
     "shell.execute_reply.started": "2021-07-11T06:30:42.805688Z"
    },
    "papermill": {
     "duration": 3.169229,
     "end_time": "2021-07-22T11:09:45.866378",
     "exception": false,
     "start_time": "2021-07-22T11:09:42.697149",
     "status": "completed"
    },
    "tags": []
   },
   "outputs": [
    {
     "data": {
      "text/plain": [
       "<AxesSubplot:>"
      ]
     },
     "execution_count": 27,
     "metadata": {},
     "output_type": "execute_result"
    },
    {
     "data": {
      "image/png": "[encoded data removed]",
      "text/plain": [
       "<Figure size 7200x3600 with 1 Axes>"
      ]
     },
     "metadata": {
      "needs_background": "light"
     },
     "output_type": "display_data"
    }
   ],
   "source": [
    "a.price.value_counts().plot(kind=\"bar\",figsize=(100,50),color='red')"
   ]
  },
  {
   "cell_type": "code",
   "execution_count": 28,
   "id": "47e99c27",
   "metadata": {
    "execution": {
     "iopub.execute_input": "2021-07-22T11:09:45.976125Z",
     "iopub.status.busy": "2021-07-22T11:09:45.975444Z",
     "iopub.status.idle": "2021-07-22T11:09:46.119941Z",
     "shell.execute_reply": "2021-07-22T11:09:46.120466Z",
     "shell.execute_reply.started": "2021-07-11T06:30:45.837273Z"
    },
    "papermill": {
     "duration": 0.202027,
     "end_time": "2021-07-22T11:09:46.120644",
     "exception": false,
     "start_time": "2021-07-22T11:09:45.918617",
     "status": "completed"
    },
    "tags": []
   },
   "outputs": [
    {
     "data": {
      "text/plain": [
       "<AxesSubplot:>"
      ]
     },
     "execution_count": 28,
     "metadata": {},
     "output_type": "execute_result"
    },
    {
     "data": {
      "image/png": "[encoded data removed]",
      "text/plain": [
       "<Figure size 720x360 with 1 Axes>"
      ]
     },
     "metadata": {
      "needs_background": "light"
     },
     "output_type": "display_data"
    }
   ],
   "source": [
    "a.hour.value_counts().plot(kind=\"bar\",figsize=(10,5),color='red')"
   ]
  },
  {
   "cell_type": "code",
   "execution_count": 29,
   "id": "303764ea",
   "metadata": {
    "execution": {
     "iopub.execute_input": "2021-07-22T11:09:46.233201Z",
     "iopub.status.busy": "2021-07-22T11:09:46.232505Z",
     "iopub.status.idle": "2021-07-22T11:09:49.953415Z",
     "shell.execute_reply": "2021-07-22T11:09:49.953939Z",
     "shell.execute_reply.started": "2021-07-11T06:30:45.981561Z"
    },
    "papermill": {
     "duration": 3.779341,
     "end_time": "2021-07-22T11:09:49.954181",
     "exception": false,
     "start_time": "2021-07-22T11:09:46.174840",
     "status": "completed"
    },
    "tags": []
   },
   "outputs": [
    {
     "name": "stderr",
     "output_type": "stream",
     "text": [
      "/opt/conda/lib/python3.7/site-packages/seaborn/_decorators.py:43: FutureWarning: Pass the following variables as keyword args: x, y. From version 0.12, the only valid positional argument will be `data`, and passing other arguments without an explicit keyword will result in an error or misinterpretation.\n",
      "  FutureWarning\n"
     ]
    },
    {
     "data": {
      "text/plain": [
       "<seaborn.axisgrid.JointGrid at 0x7f79f2736810>"
      ]
     },
     "execution_count": 29,
     "metadata": {},
     "output_type": "execute_result"
    },
    {
     "data": {
      "image/png": "[encoded data removed]",
      "text/plain": [
       "<Figure size 432x432 with 3 Axes>"
      ]
     },
     "metadata": {
      "needs_background": "light"
     },
     "output_type": "display_data"
    }
   ],
   "source": [
    "sns.jointplot(a.hour,a.price)"
   ]
  },
  {
   "cell_type": "code",
   "execution_count": 30,
   "id": "b1041840",
   "metadata": {
    "execution": {
     "iopub.execute_input": "2021-07-22T11:09:50.069478Z",
     "iopub.status.busy": "2021-07-22T11:09:50.068760Z",
     "iopub.status.idle": "2021-07-22T11:09:50.357490Z",
     "shell.execute_reply": "2021-07-22T11:09:50.356773Z",
     "shell.execute_reply.started": "2021-07-11T06:30:49.844523Z"
    },
    "papermill": {
     "duration": 0.347257,
     "end_time": "2021-07-22T11:09:50.357676",
     "exception": false,
     "start_time": "2021-07-22T11:09:50.010419",
     "status": "completed"
    },
    "tags": []
   },
   "outputs": [
    {
     "data": {
      "text/plain": [
       "[<matplotlib.lines.Line2D at 0x7f79ec74ffd0>]"
      ]
     },
     "execution_count": 30,
     "metadata": {},
     "output_type": "execute_result"
    },
    {
     "data": {
      "image/png": "[encoded data removed]",
      "text/plain": [
       "<Figure size 432x288 with 1 Axes>"
      ]
     },
     "metadata": {
      "needs_background": "light"
     },
     "output_type": "display_data"
    }
   ],
   "source": [
    "x=a.price\n",
    "y=a.hour\n",
    "plt.plot(y,x)"
   ]
  },
  {
   "cell_type": "code",
   "execution_count": 31,
   "id": "bf54917c",
   "metadata": {
    "execution": {
     "iopub.execute_input": "2021-07-22T11:09:50.515306Z",
     "iopub.status.busy": "2021-07-22T11:09:50.507003Z",
     "iopub.status.idle": "2021-07-22T11:09:54.580592Z",
     "shell.execute_reply": "2021-07-22T11:09:54.579988Z",
     "shell.execute_reply.started": "2021-07-11T06:30:50.084649Z"
    },
    "papermill": {
     "duration": 4.165514,
     "end_time": "2021-07-22T11:09:54.580734",
     "exception": false,
     "start_time": "2021-07-22T11:09:50.415220",
     "status": "completed"
    },
    "tags": []
   },
   "outputs": [
    {
     "name": "stderr",
     "output_type": "stream",
     "text": [
      "/opt/conda/lib/python3.7/site-packages/seaborn/_decorators.py:43: FutureWarning: Pass the following variables as keyword args: x, y. From version 0.12, the only valid positional argument will be `data`, and passing other arguments without an explicit keyword will result in an error or misinterpretation.\n",
      "  FutureWarning\n"
     ]
    },
    {
     "data": {
      "text/plain": [
       "<seaborn.axisgrid.JointGrid at 0x7f79ec6f6190>"
      ]
     },
     "execution_count": 31,
     "metadata": {},
     "output_type": "execute_result"
    },
    {
     "data": {
      "image/png": "[encoded data removed]",
      "text/plain": [
       "<Figure size 432x432 with 3 Axes>"
      ]
     },
     "metadata": {
      "needs_background": "light"
     },
     "output_type": "display_data"
    }
   ],
   "source": [
    "sns.jointplot(a.rain,a.price)"
   ]
  },
  {
   "cell_type": "code",
   "execution_count": 32,
   "id": "3474b9d3",
   "metadata": {
    "execution": {
     "iopub.execute_input": "2021-07-22T11:09:54.702737Z",
     "iopub.status.busy": "2021-07-22T11:09:54.702046Z",
     "iopub.status.idle": "2021-07-22T11:09:54.705070Z",
     "shell.execute_reply": "2021-07-22T11:09:54.705545Z",
     "shell.execute_reply.started": "2021-07-11T06:30:53.999145Z"
    },
    "papermill": {
     "duration": 0.066443,
     "end_time": "2021-07-22T11:09:54.705704",
     "exception": false,
     "start_time": "2021-07-22T11:09:54.639261",
     "status": "completed"
    },
    "tags": []
   },
   "outputs": [
    {
     "data": {
      "text/plain": [
       "Index(['distance', 'cab_type', 'time_stamp', 'destination', 'source', 'price',\n",
       "       'surge_multiplier', 'id', 'product_id', 'name', 'date_time', 'temp',\n",
       "       'location', 'clouds', 'pressure', 'rain', 'humidity', 'wind', 'day',\n",
       "       'hour'],\n",
       "      dtype='object')"
      ]
     },
     "execution_count": 32,
     "metadata": {},
     "output_type": "execute_result"
    }
   ],
   "source": [
    "a.columns"
   ]
  },
  {
   "cell_type": "code",
   "execution_count": 33,
   "id": "06ba4b20",
   "metadata": {
    "execution": {
     "iopub.execute_input": "2021-07-22T11:09:54.823742Z",
     "iopub.status.busy": "2021-07-22T11:09:54.823137Z",
     "iopub.status.idle": "2021-07-22T11:09:54.843572Z",
     "shell.execute_reply": "2021-07-22T11:09:54.844080Z",
     "shell.execute_reply.started": "2021-07-11T06:30:54.007078Z"
    },
    "papermill": {
     "duration": 0.081134,
     "end_time": "2021-07-22T11:09:54.844267",
     "exception": false,
     "start_time": "2021-07-22T11:09:54.763133",
     "status": "completed"
    },
    "tags": []
   },
   "outputs": [],
   "source": [
    "x1=a[(['distance', 'surge_multiplier', 'temp', 'clouds', 'pressure', 'rain', 'humidity', 'wind', 'day','hour'])]\n",
    "y1=a[('price')]"
   ]
  },
  {
   "cell_type": "markdown",
   "id": "77ae4b25",
   "metadata": {
    "papermill": {
     "duration": 0.057698,
     "end_time": "2021-07-22T11:09:54.959948",
     "exception": false,
     "start_time": "2021-07-22T11:09:54.902250",
     "status": "completed"
    },
    "tags": []
   },
   "source": [
    "train -test splitting"
   ]
  },
  {
   "cell_type": "code",
   "execution_count": 34,
   "id": "e59f7860",
   "metadata": {
    "execution": {
     "iopub.execute_input": "2021-07-22T11:09:55.080889Z",
     "iopub.status.busy": "2021-07-22T11:09:55.080264Z",
     "iopub.status.idle": "2021-07-22T11:09:55.474591Z",
     "shell.execute_reply": "2021-07-22T11:09:55.473876Z",
     "shell.execute_reply.started": "2021-07-11T06:30:54.037868Z"
    },
    "papermill": {
     "duration": 0.4556,
     "end_time": "2021-07-22T11:09:55.474743",
     "exception": false,
     "start_time": "2021-07-22T11:09:55.019143",
     "status": "completed"
    },
    "tags": []
   },
   "outputs": [],
   "source": [
    "from sklearn.model_selection import train_test_split\n",
    "x_train, y_train ,x_test, y_test = train_test_split(x1,y1,test_size=0.25,random_state =42)"
   ]
  },
  {
   "cell_type": "markdown",
   "id": "ff528653",
   "metadata": {
    "papermill": {
     "duration": 0.057256,
     "end_time": "2021-07-22T11:09:55.589442",
     "exception": false,
     "start_time": "2021-07-22T11:09:55.532186",
     "status": "completed"
    },
    "tags": []
   },
   "source": [
    "importing the three main regressions for the pridiction"
   ]
  },
  {
   "cell_type": "code",
   "execution_count": 35,
   "id": "fcdcb244",
   "metadata": {
    "execution": {
     "iopub.execute_input": "2021-07-22T11:09:55.710219Z",
     "iopub.status.busy": "2021-07-22T11:09:55.709461Z",
     "iopub.status.idle": "2021-07-22T11:09:55.907452Z",
     "shell.execute_reply": "2021-07-22T11:09:55.906827Z",
     "shell.execute_reply.started": "2021-07-11T06:30:54.19128Z"
    },
    "papermill": {
     "duration": 0.260153,
     "end_time": "2021-07-22T11:09:55.907607",
     "exception": false,
     "start_time": "2021-07-22T11:09:55.647454",
     "status": "completed"
    },
    "tags": []
   },
   "outputs": [],
   "source": [
    "from sklearn.linear_model import LinearRegression\n",
    "from sklearn.tree import DecisionTreeRegressor\n",
    "from sklearn.ensemble import RandomForestRegressor\n"
   ]
  },
  {
   "cell_type": "code",
   "execution_count": 36,
   "id": "e93a5814",
   "metadata": {
    "execution": {
     "iopub.execute_input": "2021-07-22T11:09:56.030449Z",
     "iopub.status.busy": "2021-07-22T11:09:56.029659Z",
     "iopub.status.idle": "2021-07-22T11:09:56.601869Z",
     "shell.execute_reply": "2021-07-22T11:09:56.602392Z",
     "shell.execute_reply.started": "2021-07-11T06:30:54.196213Z"
    },
    "papermill": {
     "duration": 0.636842,
     "end_time": "2021-07-22T11:09:56.602565",
     "exception": false,
     "start_time": "2021-07-22T11:09:55.965723",
     "status": "completed"
    },
    "tags": []
   },
   "outputs": [
    {
     "data": {
      "text/plain": [
       "DecisionTreeRegressor()"
      ]
     },
     "execution_count": 36,
     "metadata": {},
     "output_type": "execute_result"
    }
   ],
   "source": [
    "#model=RandomForestRegressor()\n",
    "#model=LinearRegression()\n",
    "model=DecisionTreeRegressor()\n",
    "model.fit(x_train,x_test)"
   ]
  },
  {
   "cell_type": "code",
   "execution_count": 37,
   "id": "a44ed5a0",
   "metadata": {
    "execution": {
     "iopub.execute_input": "2021-07-22T11:09:56.726812Z",
     "iopub.status.busy": "2021-07-22T11:09:56.725737Z",
     "iopub.status.idle": "2021-07-22T11:09:56.757957Z",
     "shell.execute_reply": "2021-07-22T11:09:56.757433Z",
     "shell.execute_reply.started": "2021-07-11T06:30:54.732098Z"
    },
    "papermill": {
     "duration": 0.097448,
     "end_time": "2021-07-22T11:09:56.758124",
     "exception": false,
     "start_time": "2021-07-22T11:09:56.660676",
     "status": "completed"
    },
    "tags": []
   },
   "outputs": [
    {
     "name": "stdout",
     "output_type": "stream",
     "text": [
      "[37.92857143 13.29355161 18.84351554 ... 11.56733484 12.01121346\n",
      " 14.49097744]\n"
     ]
    }
   ],
   "source": [
    "pred=model.predict(y_train)\n",
    "print(pred)"
   ]
  },
  {
   "cell_type": "code",
   "execution_count": 38,
   "id": "cc97b474",
   "metadata": {
    "execution": {
     "iopub.execute_input": "2021-07-22T11:09:56.884129Z",
     "iopub.status.busy": "2021-07-22T11:09:56.883405Z",
     "iopub.status.idle": "2021-07-22T11:09:56.895837Z",
     "shell.execute_reply": "2021-07-22T11:09:56.896347Z",
     "shell.execute_reply.started": "2021-07-11T06:30:54.768274Z"
    },
    "papermill": {
     "duration": 0.078913,
     "end_time": "2021-07-22T11:09:56.896522",
     "exception": false,
     "start_time": "2021-07-22T11:09:56.817609",
     "status": "completed"
    },
    "tags": []
   },
   "outputs": [
    {
     "data": {
      "text/html": [
       "<div>\n",
       "<style scoped>\n",
       "    .dataframe tbody tr th:only-of-type {\n",
       "        vertical-align: middle;\n",
       "    }\n",
       "\n",
       "    .dataframe tbody tr th {\n",
       "        vertical-align: top;\n",
       "    }\n",
       "\n",
       "    .dataframe thead th {\n",
       "        text-align: right;\n",
       "    }\n",
       "</style>\n",
       "<table border=\"1\" class=\"dataframe\">\n",
       "  <thead>\n",
       "    <tr style=\"text-align: right;\">\n",
       "      <th></th>\n",
       "      <th>actual</th>\n",
       "      <th>prediction</th>\n",
       "    </tr>\n",
       "  </thead>\n",
       "  <tbody>\n",
       "    <tr>\n",
       "      <th>81607</th>\n",
       "      <td>42.5</td>\n",
       "      <td>37.928571</td>\n",
       "    </tr>\n",
       "    <tr>\n",
       "      <th>354</th>\n",
       "      <td>0.0</td>\n",
       "      <td>13.293552</td>\n",
       "    </tr>\n",
       "    <tr>\n",
       "      <th>471801</th>\n",
       "      <td>32.5</td>\n",
       "      <td>18.843516</td>\n",
       "    </tr>\n",
       "    <tr>\n",
       "      <th>407645</th>\n",
       "      <td>27.5</td>\n",
       "      <td>11.827128</td>\n",
       "    </tr>\n",
       "    <tr>\n",
       "      <th>474760</th>\n",
       "      <td>27.5</td>\n",
       "      <td>10.657814</td>\n",
       "    </tr>\n",
       "    <tr>\n",
       "      <th>...</th>\n",
       "      <td>...</td>\n",
       "      <td>...</td>\n",
       "    </tr>\n",
       "    <tr>\n",
       "      <th>538489</th>\n",
       "      <td>7.5</td>\n",
       "      <td>11.021530</td>\n",
       "    </tr>\n",
       "    <tr>\n",
       "      <th>579511</th>\n",
       "      <td>13.5</td>\n",
       "      <td>16.118196</td>\n",
       "    </tr>\n",
       "    <tr>\n",
       "      <th>5421</th>\n",
       "      <td>9.0</td>\n",
       "      <td>11.567335</td>\n",
       "    </tr>\n",
       "    <tr>\n",
       "      <th>279982</th>\n",
       "      <td>8.0</td>\n",
       "      <td>12.011213</td>\n",
       "    </tr>\n",
       "    <tr>\n",
       "      <th>236315</th>\n",
       "      <td>27.5</td>\n",
       "      <td>14.490977</td>\n",
       "    </tr>\n",
       "  </tbody>\n",
       "</table>\n",
       "<p>174837 rows × 2 columns</p>\n",
       "</div>"
      ],
      "text/plain": [
       "        actual  prediction\n",
       "81607     42.5   37.928571\n",
       "354        0.0   13.293552\n",
       "471801    32.5   18.843516\n",
       "407645    27.5   11.827128\n",
       "474760    27.5   10.657814\n",
       "...        ...         ...\n",
       "538489     7.5   11.021530\n",
       "579511    13.5   16.118196\n",
       "5421       9.0   11.567335\n",
       "279982     8.0   12.011213\n",
       "236315    27.5   14.490977\n",
       "\n",
       "[174837 rows x 2 columns]"
      ]
     },
     "execution_count": 38,
     "metadata": {},
     "output_type": "execute_result"
    }
   ],
   "source": [
    "df=pd.DataFrame({\"actual\": y_test, \"prediction\": pred})\n",
    "df"
   ]
  },
  {
   "cell_type": "markdown",
   "id": "1ccc9a1d",
   "metadata": {
    "papermill": {
     "duration": 0.060397,
     "end_time": "2021-07-22T11:09:57.015533",
     "exception": false,
     "start_time": "2021-07-22T11:09:56.955136",
     "status": "completed"
    },
    "tags": []
   },
   "source": [
    "the error in predicition "
   ]
  },
  {
   "cell_type": "code",
   "execution_count": 39,
   "id": "0e169c57",
   "metadata": {
    "execution": {
     "iopub.execute_input": "2021-07-22T11:09:57.137367Z",
     "iopub.status.busy": "2021-07-22T11:09:57.136700Z",
     "iopub.status.idle": "2021-07-22T11:09:57.240970Z",
     "shell.execute_reply": "2021-07-22T11:09:57.240461Z",
     "shell.execute_reply.started": "2021-07-11T06:30:54.784098Z"
    },
    "papermill": {
     "duration": 0.165858,
     "end_time": "2021-07-22T11:09:57.241143",
     "exception": false,
     "start_time": "2021-07-22T11:09:57.075285",
     "status": "completed"
    },
    "tags": []
   },
   "outputs": [
    {
     "name": "stdout",
     "output_type": "stream",
     "text": [
      "0.17928220072928847\n"
     ]
    }
   ],
   "source": [
    "rsquare=model.score(x_train,x_test)\n",
    "print (rsquare)"
   ]
  },
  {
   "cell_type": "code",
   "execution_count": null,
   "id": "c2e65130",
   "metadata": {
    "papermill": {
     "duration": 0.059265,
     "end_time": "2021-07-22T11:09:57.359505",
     "exception": false,
     "start_time": "2021-07-22T11:09:57.300240",
     "status": "completed"
    },
    "tags": []
   },
   "outputs": [],
   "source": []
  }
 ],
 "metadata": {
  "kernelspec": {
   "display_name": "Python 3",
   "language": "python",
   "name": "python3"
  },
  "language_info": {
   "codemirror_mode": {
    "name": "ipython",
    "version": 3
   },
   "file_extension": ".py",
   "mimetype": "text/x-python",
   "name": "python",
   "nbconvert_exporter": "python",
   "pygments_lexer": "ipython3",
   "version": "3.7.10"
  },
  "papermill": {
   "default_parameters": {},
   "duration": 50.914716,
   "end_time": "2021-07-22T11:09:58.769304",
   "environment_variables": {},
   "exception": null,
   "input_path": "__notebook__.ipynb",
   "output_path": "__notebook__.ipynb",
   "parameters": {},
   "start_time": "2021-07-22T11:09:07.854588",
   "version": "2.3.3"
  }
 },
 "nbformat": 4,
 "nbformat_minor": 5
}
